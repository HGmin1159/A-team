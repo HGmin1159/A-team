{
 "cells": [
  {
   "cell_type": "code",
   "execution_count": 70,
   "metadata": {},
   "outputs": [],
   "source": [
    "import pandas as pd"
   ]
  },
  {
   "cell_type": "code",
   "execution_count": 71,
   "metadata": {},
   "outputs": [],
   "source": [
    "df=pd.read_csv('crawling_festival_info_2015.csv',encoding='CP949')\n",
    "df1=pd.read_excel('2015_축제_시작종료일_수정_191029.xls',encoding='CP949')\n",
    "df.columns=['축제명', 'address_name', 'place_name', 'x', 'y',\n",
    "       'road_address_name', 'place_url']"
   ]
  },
  {
   "cell_type": "code",
   "execution_count": 72,
   "metadata": {},
   "outputs": [],
   "source": [
    "df.iloc[0,1]='경기도 과천시 막계동 서울대공원 159'\n",
    "df.iloc[1,1]='서울특별시 중구 세종대로 110'\n",
    "df.iloc[1,2]='서울광장, 무교로, 청계광장 일원'\n",
    "df.iloc[2,1]='경기 과천시 대공원광장로 102'\n",
    "df.iloc[2,2]='서울대공원 장미원'\n",
    "df.iloc[3,1]='경기 과천시 대공원광장로 102'\n",
    "df.iloc[3,2]='서울대공원'\n",
    "df.iloc[5,1]='서울 중구 을지로 281'\n",
    "df.iloc[5,2]='DDP'\n",
    "df.iloc[6,1]='서울특별시 중구 세종대로 110'\n",
    "df.iloc[6,2]='서울광장, 청계광장, 광화문광장, 서울시립미술관'\n",
    "df.iloc[7,1]='경기 과천시 대공원광장로 102'\n",
    "df.iloc[7,2]='서울대공원'\n",
    "df.iloc[10,1]='서울특별시 중구 태평로1가'\n",
    "df.iloc[10,2]='서울 광장'\n",
    "df.iloc[12,1]='서울 중랑구 송림길 147'\n",
    "df.iloc[12,2]='중랑캠핑숲'\n",
    "df.iloc[13,1]='서울 중구 세종대로 119'\n",
    "df.iloc[13,2]='서울도시건축전시관'\n",
    "df.iloc[14,1]='서울 중구 을지로 12'\n",
    "df.iloc[14,2]='서울 광장'\n",
    "df.iloc[15,1]='서울 영등포구 여의동로 330'\n",
    "df.iloc[15,2]='여의도 한강공원'\n",
    "df.iloc[18,1]='서울특별시 중구 세종대로 110'\n",
    "df.iloc[18,2]='태평로,세종대로'\n",
    "df.iloc[22,1]='서울 종로구 종로 54'\n",
    "df.iloc[22,2]='보신각'\n",
    "df.iloc[23,1]='서울 종로구 새문안로 55'\n",
    "df.iloc[23,2]='서울역사박물관'\n",
    "df.iloc[25,1]='서울 종로구 종로 54'\n",
    "df.iloc[25,2]='보신각'\n",
    "df.iloc[38,1]='서울 종로구 세종대로 172 열기'\n",
    "df.iloc[38,2]='광화문광장'\n",
    "df.iloc[39,1]='서울 서초구 남부순환로 2406'\n",
    "df.iloc[39,2]='예술의전당 한가람미술관'\n",
    "df.iloc[40,1]='서울 중구 을지로 12'\n",
    "df.iloc[40,2]='서울 광장'\n",
    "df.iloc[42,1]='서울특별시 종로구 인사동 33-2'\n",
    "df.iloc[42,2]='남인사마당'\n",
    "df.iloc[40,1]='서울 중구 을지로 12'\n",
    "df.iloc[44,3]=37.5761402\n",
    "df.iloc[44,4]=126.9847851\n",
    "df.iloc[45,3]=37.5811307\n",
    "df.iloc[45,4]=126.9997236\n",
    "df.iloc[46,3]=37.5981936\n",
    "df.iloc[46,4]=126.9475124\n",
    "df.iloc[47,3]=37.5774818\n",
    "df.iloc[47,4]=127.0160259\n",
    "df.iloc[55,3]=37.5845208\n",
    "df.iloc[55,4]=127.0001264\n",
    "df.iloc[56,3]=37.5724905\n",
    "df.iloc[56,4]=126.9896204"
   ]
  },
  {
   "cell_type": "code",
   "execution_count": 73,
   "metadata": {},
   "outputs": [],
   "source": [
    "df2=pd.merge(df,df1,on='축제명',how='right')"
   ]
  },
  {
   "cell_type": "code",
   "execution_count": 79,
   "metadata": {},
   "outputs": [],
   "source": [
    "df2.iloc[19,3]=37.5817895\n",
    "df2.iloc[19,4]=127.0000397\n",
    "df2.iloc[33,3]=37.5817895\n",
    "df2.iloc[33,4]=127.0000397\n",
    "df2.iloc[34,3]=37.5754719\n",
    "df2.iloc[34,4]=126.9811972\n",
    "df2.iloc[35,3]=37.5633641\n",
    "df2.iloc[35,4]=127.0128711\n",
    "df2.iloc[37,3]=37.5367465\n",
    "df2.iloc[37,4]=126.957528\n",
    "df2.iloc[38,3]=37.5593423\n",
    "df2.iloc[38,4]=127.0338534\n",
    "df2.iloc[39,3]=37.5934522\n",
    "df2.iloc[39,4]=127.0943664\n",
    "df2.iloc[49,3]=37.6877154\n",
    "df2.iloc[49,4]=127.0332387\n",
    "df2.iloc[51,3]=37.574271\n",
    "df2.iloc[51,4]=126.953877\n",
    "df2.iloc[53,3]=37.5405929\n",
    "df2.iloc[53,4]=126.9429739\n",
    "df2.iloc[54,3]=37.563418\n",
    "df2.iloc[54,4]=126.901278\n",
    "df2.iloc[57,3]=37.557300\n",
    "df2.iloc[57,4]=126.898463\n",
    "df2.iloc[59,3]=37.5152131\n",
    "df2.iloc[59,4]=126.9386684\n",
    "df2.iloc[61,3]=37.4711007\n",
    "df2.iloc[61,4]=126.957796\n",
    "df2.iloc[62,3]=37.4781285\n",
    "df2.iloc[62,4]=126.9493084\n",
    "df2.iloc[64,3]=37.5656917\n",
    "df2.iloc[64,4]=126.9769784\n",
    "df2.iloc[65,3]=37.5704837\n",
    "df2.iloc[65,4]=126.9683734\n",
    "df2.iloc[66,3]=37.5728192\n",
    "df2.iloc[66,4]=127.0889972\n",
    "df2.iloc[67,3]=37.661749\n",
    "df2.iloc[67,4]=127.036561\n",
    "df2.iloc[68,3]=37.654974\n",
    "df2.iloc[68,4]=127.061096\n",
    "df2.iloc[69,3]=37.5567144\n",
    "df2.iloc[69,4]=126.9351192"
   ]
  },
  {
   "cell_type": "code",
   "execution_count": 82,
   "metadata": {},
   "outputs": [],
   "source": [
    "export_csv = df2.to_csv (r'C:\\Users\\Sangwoo Park\\A-team\\데이터전처리\\export_dataframe.csv', index = None, header=True)"
   ]
  },
  {
   "cell_type": "code",
   "execution_count": null,
   "metadata": {},
   "outputs": [],
   "source": []
  }
 ],
 "metadata": {
  "kernelspec": {
   "display_name": "Python 3",
   "language": "python",
   "name": "python3"
  },
  "language_info": {
   "codemirror_mode": {
    "name": "ipython",
    "version": 3
   },
   "file_extension": ".py",
   "mimetype": "text/x-python",
   "name": "python",
   "nbconvert_exporter": "python",
   "pygments_lexer": "ipython3",
   "version": "3.7.4"
  }
 },
 "nbformat": 4,
 "nbformat_minor": 2
}
