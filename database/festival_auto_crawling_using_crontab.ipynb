{
 "cells": [
  {
   "cell_type": "code",
   "execution_count": 1,
   "metadata": {},
   "outputs": [],
   "source": [
    "import pandas as pd\n",
    "import numpy as np\n",
    "\n",
    "import requests\n",
    "import json\n",
    "\n",
    "from selenium import webdriver\n",
    "import re\n",
    "from bs4 import BeautifulSoup\n",
    "import sqlite3\n",
    "import datetime"
   ]
  },
  {
   "cell_type": "markdown",
   "metadata": {},
   "source": [
    "# 축제 정보 크롤링 자동화"
   ]
  },
  {
   "cell_type": "markdown",
   "metadata": {},
   "source": [
    "## 기간지정"
   ]
  },
  {
   "cell_type": "code",
   "execution_count": 2,
   "metadata": {},
   "outputs": [],
   "source": [
    "start_date = '{}0101'.format(datetime.datetime.now().year)\n",
    "end_date = '{}1231'.format(datetime.datetime.now().year+1)"
   ]
  },
  {
   "cell_type": "code",
   "execution_count": 3,
   "metadata": {
    "scrolled": true
   },
   "outputs": [],
   "source": [
    "driver = webdriver.Chrome('C:/Users/MINJI/chromedriver')\n",
    "search_period = [start_date, end_date]\n",
    "page_num = 1\n",
    "\n",
    "driver.get('https://www.mcst.go.kr/kor/s_culture/festival/festivalList.jsp?pMenuCD=&pCurrentPage={}&pSearchType=01&pSearchWord=&pSeq=&pSido=01&pOrder=01down&pPeriod=&fromDt={}&toDt={}search_period'.format(page_num, search_period[0], search_period[1]))\n",
    "tmp = driver.find_element_by_xpath('//*[@id=\"content\"]/div[2]/div[3]/span')\n",
    "p = re.compile('총 [\\d]+건').match(tmp.text).group()\n",
    "total_festival_num = int(re.findall('\\d+', p )[0])\n",
    "\n",
    "if total_festival_num%5 == 0: \n",
    "    last_page_num = int(total_festival_num/5)\n",
    "else:\n",
    "    last_page_num = int(total_festival_num/5)+1\n",
    "    \n",
    "\n",
    "res = []  \n",
    "if total_festival_num < 5:\n",
    "    for page_num in range(1, last_page_num+1):\n",
    "        #print(page_num)\n",
    "        driver.get('https://www.mcst.go.kr/kor/s_culture/festival/festivalList.jsp?pMenuCD=&pCurrentPage={}&pSearchType=01&pSearchWord=&pSeq=&pSido=01&pOrder=01down&pPeriod=&fromDt={}&toDt={}search_period'.format(page_num, search_period[0], search_period[1]))\n",
    "        for i in range(total_festival_num):\n",
    "            tmp = driver.find_element_by_xpath('//*[@id=\"content\"]/div[2]/ul/li[{}]/a'.format(i+1))\n",
    "\n",
    "            tmp.click()\n",
    "\n",
    "            html2 = driver.page_source\n",
    "            soup2 = BeautifulSoup(html2, 'html.parser')\n",
    "\n",
    "            if soup2.find('p', attrs={'class':'errorInfo'}):\n",
    "                continue\n",
    "            else:\n",
    "                festival_info = dict()\n",
    "\n",
    "                festival_name = soup2.find('div', attrs={'class': 'view_title color04'}).text\n",
    "                festival_img = soup2.find('div', attrs={'class': 'culture_view_img'}).find('img')\n",
    "\n",
    "                festival_info['title'] = festival_name\n",
    "                festival_info['img'] = festival_img\n",
    "\n",
    "                for dt, dd in zip(soup2.find_all('dt'), soup2.find_all('dd')):\n",
    "                    festival_info[dt.text] = dd.text.strip()\n",
    "\n",
    "                festival_info['explanation'] = soup2.find('div', attrs={'class': 'view_con color04'}).text\n",
    "\n",
    "                res.append(festival_info)\n",
    "\n",
    "            driver.get('https://www.mcst.go.kr/kor/s_culture/festival/festivalList.jsp?pMenuCD=&pCurrentPage={}&pSearchType=01&pSearchWord=&pSeq=&pSido=01&pOrder=01down&pPeriod=&fromDt={}&toDt={}search_period'.format(page_num, search_period[0], search_period[1]))\n",
    "        page_num += 1\n",
    "else:\n",
    "    for page_num in range(1, last_page_num+1):\n",
    "        #print(page_num)\n",
    "        driver.get('https://www.mcst.go.kr/kor/s_culture/festival/festivalList.jsp?pMenuCD=&pCurrentPage={}&pSearchType=01&pSearchWord=&pSeq=&pSido=01&pOrder=01down&pPeriod=&fromDt={}&toDt={}search_period'.format(page_num, search_period[0], search_period[1]))\n",
    "        for i in range(1, 6):\n",
    "            tmp = driver.find_element_by_xpath('//*[@id=\"content\"]/div[2]/ul/li[{}]/a'.format(i))\n",
    "\n",
    "            tmp.click()\n",
    "\n",
    "            html2 = driver.page_source\n",
    "            soup2 = BeautifulSoup(html2, 'html.parser')\n",
    "\n",
    "            if soup2.find('p', attrs={'class':'errorInfo'}):\n",
    "                continue\n",
    "            else:\n",
    "                festival_info = dict()\n",
    "\n",
    "                festival_name = soup2.find('div', attrs={'class': 'view_title color04'}).text\n",
    "                festival_img = soup2.find('div', attrs={'class': 'culture_view_img'}).find('img')\n",
    "\n",
    "                festival_info['title'] = festival_name\n",
    "                festival_info['img'] = festival_img\n",
    "\n",
    "                for dt, dd in zip(soup2.find_all('dt'), soup2.find_all('dd')):\n",
    "                    festival_info[dt.text] = dd.text.strip()\n",
    "\n",
    "                festival_info['explanation'] = soup2.find('div', attrs={'class': 'view_con color04'}).text\n",
    "\n",
    "                res.append(festival_info)\n",
    "\n",
    "            driver.get('https://www.mcst.go.kr/kor/s_culture/festival/festivalList.jsp?pMenuCD=&pCurrentPage={}&pSearchType=01&pSearchWord=&pSeq=&pSido=01&pOrder=01down&pPeriod=&fromDt={}&toDt={}search_period'.format(page_num, search_period[0], search_period[1]))\n",
    "        page_num += 1"
   ]
  },
  {
   "cell_type": "code",
   "execution_count": 4,
   "metadata": {},
   "outputs": [],
   "source": [
    "festival_new = pd.DataFrame(res)"
   ]
  },
  {
   "cell_type": "markdown",
   "metadata": {},
   "source": [
    "## 축제장소 수정"
   ]
  },
  {
   "cell_type": "code",
   "execution_count": 5,
   "metadata": {},
   "outputs": [],
   "source": [
    "festival_new['축제장소_수정'] = festival_new['축제장소'].str.split(',', expand=True).iloc[:, 0]"
   ]
  },
  {
   "cell_type": "markdown",
   "metadata": {},
   "source": [
    "### 축제 장소가 NA면 '없음'으로 표시"
   ]
  },
  {
   "cell_type": "code",
   "execution_count": 6,
   "metadata": {},
   "outputs": [],
   "source": [
    "festival_new['축제장소_수정'] = np.where(festival_new['축제장소_수정'].isnull(), '없음', festival_new['축제장소_수정'])"
   ]
  },
  {
   "cell_type": "code",
   "execution_count": 7,
   "metadata": {
    "scrolled": true
   },
   "outputs": [],
   "source": [
    "festival_new['축제장소_수정'] = np.where(festival_new['축제장소'].str.contains('코엑스'), '코엑스', festival_new['축제장소_수정'])\n",
    "festival_new['축제장소_수정'] = np.where(festival_new['축제장소'].str.contains('Coex'), '코엑스', festival_new['축제장소_수정'])\n",
    "festival_new['축제장소_수정'] = np.where(festival_new['축제장소'].str.contains('예술의'), '예술의 전당',festival_new['축제장소_수정'])\n",
    "festival_new['축제장소_수정'] = np.where(festival_new['축제장소'].str.contains('혜화'), '혜화역', festival_new['축제장소_수정'])\n",
    "festival_new['축제장소_수정'] = np.where(festival_new['축제장소'].str.contains('한성대입구'), '한성대입구역', festival_new['축제장소_수정'])\n",
    "festival_new['축제장소_수정'] = np.where(festival_new['축제장소'].str.contains('홍문관'), '홍익대학교 홍문관', festival_new['축제장소_수정'])\n",
    "festival_new['축제장소_수정'] = np.where(festival_new['축제장소'].str.contains('남산'),  '남산골한옥마을', festival_new['축제장소_수정'])\n",
    "festival_new['축제장소_수정'] = np.where(festival_new['축제장소'].str.contains('주차장'),  '홍익대학교', festival_new['축제장소_수정'])\n",
    "festival_new['축제장소_수정'] = np.where(festival_new['축제장소'].str.contains('압구정'),  '압구정로데오역', festival_new['축제장소_수정'])\n",
    "festival_new['축제장소_수정'] = np.where(festival_new['축제장소'].str.contains('대학로예술극장'),  '대학로예술극장', festival_new['축제장소_수정'])\n",
    "festival_new['축제장소_수정'] = np.where(festival_new['축제장소'].str.contains('여의도 물빛무대'),  '여의도 물빛무대', festival_new['축제장소_수정'])\n",
    "festival_new['축제장소_수정'] = np.where(festival_new['축제장소'].str.contains('국립한글박물관'),  '국립한글박물관', festival_new['축제장소_수정'])\n",
    "festival_new['축제장소_수정'] = np.where(festival_new['축제장소'].str.contains('정동'),  '서울시 중구 정동길', festival_new['축제장소_수정'])\n",
    "#festival_new['축제장소_수정'] = np.where(festival_new['축제장소'].str.contains('서울시청'),  '서울시청광장', festival_new['축제장소_수정'])\n",
    "festival_new['축제장소_수정'] = np.where(festival_new['축제장소'].str.contains('능동로'),  '서울 능동로', festival_new['축제장소_수정'])\n",
    "festival_new['축제장소_수정'] = np.where(festival_new['축제장소'].str.contains('청계광장'),  '청계광장', festival_new['축제장소_수정'])\n",
    "festival_new['축제장소_수정'] = np.where(festival_new['축제장소'].str.contains('강동구청'),  '강동구청', festival_new['축제장소_수정'])\n",
    "festival_new['축제장소_수정'] = np.where(festival_new['축제장소'].str.contains('서울산업진흥원'), '서울산업진흥원', festival_new['축제장소_수정'])\n",
    "festival_new['축제장소_수정'] = np.where(festival_new['축제장소'].str.contains('서울광장'), '서울시청광장', festival_new['축제장소_수정'])\n",
    "festival_new['축제장소_수정'] = np.where(festival_new['축제장소'].str.contains('정동'), '서울 중구 정동길', festival_new['축제장소_수정'])\n",
    "festival_new['축제장소_수정'] = np.where(festival_new['축제장소'].str.contains('KBS'), 'KBS홀', festival_new['축제장소_수정'])\n",
    "festival_new['축제장소_수정'] = np.where(festival_new['축제장소'].str.contains('홍대 롤링홀'), '홍대 롤링홀', festival_new['축제장소_수정'])\n",
    "festival_new['축제장소_수정'] = np.where(festival_new['축제장소'].str.contains('학여울역 SETEC 제2/3 전시실'), 'SETEC', festival_new['축제장소_수정'])\n",
    "festival_new['축제장소_수정'] = np.where(festival_new['축제장소'].str.contains('4대궁 및 종묘'), '창덕궁', festival_new['축제장소_수정'])\n",
    "festival_new['축제장소_수정'] = np.where(festival_new['축제장소'].str.contains('대학로'), '대학로예술극장', festival_new['축제장소_수정'])\n",
    "festival_new['축제장소_수정'] = np.where(festival_new['축제장소'].str.contains('여의도 한강공원 일대'), '여의도 한강공원', festival_new['축제장소_수정'])\n",
    "festival_new['축제장소_수정'] = np.where(festival_new['축제장소'].str.contains('고척돔'), '고척스카이돔', festival_new['축제장소_수정'])\n",
    "festival_new['축제장소_수정'] = np.where(festival_new['축제장소'].str.contains('강서구 개화산'), '강서구 개화산', festival_new['축제장소_수정'])\n",
    "festival_new['축제장소_수정'] = np.where(festival_new['축제장소'].str.contains('국립한글박물관'),  '국립한글박물관', festival_new['축제장소_수정'])\n",
    "festival_new['축제장소_수정'] = np.where(festival_new['축제장소'].str.contains('인왕산 청운공원'), '인왕산 청운공원', festival_new['축제장소_수정'])\n",
    "festival_new['축제장소_수정'] = np.where(festival_new['축제장소'].str.contains('세빛섬'), '세빛섬', festival_new['축제장소_수정'])\n",
    "festival_new['축제장소_수정'] = np.where(festival_new['축제장소'].str.contains('응봉산 팔각정'), '응봉산 팔각정', festival_new['축제장소_수정'])\n",
    "festival_new['축제장소_수정'] = np.where(festival_new['축제장소'].str.contains('아차산 해맞이'), '아차산 해맞이명소', festival_new['축제장소_수정'])\n",
    "festival_new['축제장소_수정'] = np.where(festival_new['축제장소'].str.contains('하늘공원'), '하늘공원', festival_new['축제장소_수정'])\n",
    "festival_new['축제장소_수정'] = np.where(festival_new['축제장소'].str.contains('무역센터'), '코엑스', festival_new['축제장소_수정'])\n",
    "festival_new['축제장소_수정'] = np.where(festival_new['축제장소'].str.contains('W스테이지'), '서울 종로구 북촌로12길 24-5 ', festival_new['축제장소_수정'])\n",
    "festival_new['축제장소_수정'] = np.where(festival_new['축제장소'].str.contains('뚝섬'), '뚝섬한강공원', festival_new['축제장소_수정'])\n",
    "festival_new['축제장소_수정'] = np.where(festival_new['축제장소'].str.contains('연세로'), '신촌 연세로', festival_new['축제장소_수정'])\n",
    "festival_new['축제장소_수정'] = np.where(festival_new['축제장소'].str.contains('호국보훈'), '상암 MBC', festival_new['축제장소_수정'])\n",
    "festival_new['축제장소_수정'] = np.where(festival_new['축제장소'].str.contains('동대문디자인플라자'), '동대문디자인플라자', festival_new['축제장소_수정'])\n",
    "festival_new['축제장소_수정'] = np.where(festival_new['축제장소'].str.contains('국회'), '국회의사당', festival_new['축제장소_수정'])\n",
    "festival_new['축제장소_수정'] = np.where(festival_new['축제장소'].str.contains('현대백화점 목동점'), '현대백화점 목동점', festival_new['축제장소_수정'])\n",
    "festival_new['축제장소_수정'] = np.where(festival_new['축제장소'].str.contains('월드컵공원'), '상암월드컵공원 평화광장', festival_new['축제장소_수정'])\n",
    "festival_new['축제장소_수정'] = np.where(festival_new['축제장소'].str.contains('서래섬'), '서래섬', festival_new['축제장소_수정'])\n",
    "festival_new['축제장소_수정'] = np.where(festival_new['축제장소'].str.contains('11개 한강공원'), '여의도 한강공원', festival_new['축제장소_수정'])\n",
    "festival_new['축제장소_수정'] = np.where(festival_new['축제장소'].str.contains('국립4.19민주묘지'), '국립4.19민주묘지', festival_new['축제장소_수정'])\n",
    "festival_new['축제장소_수정'] = np.where(festival_new['축제장소'].str.contains('최순우옛집'), '최순우옛집', festival_new['축제장소_수정'])\n",
    "festival_new['축제장소_수정'] = np.where(festival_new['축제장소'].str.contains('올림픽공원'), '올림픽공원', festival_new['축제장소_수정'])\n",
    "festival_new['축제장소_수정'] = np.where(festival_new['축제장소'].str.contains('국립한글박물관'), '국립한글박물관', festival_new['축제장소_수정'])"
   ]
  },
  {
   "cell_type": "code",
   "execution_count": 8,
   "metadata": {
    "scrolled": true
   },
   "outputs": [],
   "source": [
    "url = \"https://dapi.kakao.com/v2/local/search/keyword.json\"\n",
    "apikey = \"7f6745340f5774fddc3560cf93bf54b3\" \n",
    "\n",
    "result = list()\n",
    "no_info_festival = list()\n",
    "\n",
    "for nm, location in zip(festival_new['title'], festival_new['축제장소_수정']):\n",
    "    query = location #검색을 원하는 질의어 : 축제 장소\n",
    "\n",
    "    r = requests.get( url, params = {'query':query, 'page':45, 'radius':200}, headers={'Authorization' : 'KakaoAK ' + apikey } ) \n",
    "    #결과를 json 형식으로 반환\n",
    "    data = json.loads(r.text)\n",
    "    #print('축제명: {} \\t\\t 장소: {}'.format(nm, location))\n",
    "    if data['meta']['total_count']!=0:        \n",
    "        for i in data['documents']:\n",
    "            address_name      = i['address_name']\n",
    "            place_name        = i['place_name']\n",
    "            place_url         = i['place_url']\n",
    "            road_address_name = i['road_address_name']\n",
    "            x                 = i['x']\n",
    "            y                 = i['y']\n",
    "\n",
    "            result.append({\n",
    "                '축제명'            : nm,\n",
    "                '축제장소'          : location,\n",
    "                'address_name'      : address_name,\n",
    "                'place_name'        : place_name,\n",
    "                'place_url'         : place_url,\n",
    "                'road_address_name' : road_address_name,\n",
    "                'x'                 : x,\n",
    "                'y'                 : y\n",
    "            })\n",
    "    else:\n",
    "        result.append({\n",
    "            '축제명'            : nm,\n",
    "            '축제장소'          : location,\n",
    "            'address_name'      : None,\n",
    "            'place_name'        : None,\n",
    "            'place_url'         : None,\n",
    "            'road_address_name' : None,\n",
    "            'x'                 : None,\n",
    "            'y'                 : None\n",
    "        })\n",
    "        no_info_festival.append((nm, location))"
   ]
  },
  {
   "cell_type": "code",
   "execution_count": 9,
   "metadata": {},
   "outputs": [],
   "source": [
    "festival_info_new = pd.DataFrame(result, columns = ['축제명', '축제장소','address_name', 'x', 'y', 'road_address_name', 'place_url'])\n",
    "location_new = festival_info_new.loc[festival_info_new['축제장소']!='없음'].drop_duplicates('축제장소')"
   ]
  },
  {
   "cell_type": "markdown",
   "metadata": {},
   "source": [
    "## 그 외 축제정보와 결합"
   ]
  },
  {
   "cell_type": "code",
   "execution_count": 10,
   "metadata": {
    "scrolled": true
   },
   "outputs": [],
   "source": [
    "festival_new.columns = ['축제명', 'img', '개최지역', '개최기간', '축제성격', '관련_누리집', '축제장소', '요금', '소요시간',\n",
    "       '연령제한', '주최_주관기관', '문의', '축제설명', '축제장소_수정']"
   ]
  },
  {
   "cell_type": "code",
   "execution_count": 11,
   "metadata": {
    "scrolled": true
   },
   "outputs": [],
   "source": [
    "festival_new = pd.merge(festival_new[['축제명', 'img', '개최지역', '개최기간', '축제성격', '관련_누리집', '축제장소', '요금', '소요시간',\n",
    "       '연령제한', '주최_주관기관', '문의', '축제설명']], location_new[['축제명', 'address_name', 'x', 'y', 'road_address_name',\n",
    "       'place_url']], on='축제명', how='left')"
   ]
  },
  {
   "cell_type": "markdown",
   "metadata": {},
   "source": [
    "# DB에 업데이트"
   ]
  },
  {
   "cell_type": "code",
   "execution_count": 12,
   "metadata": {},
   "outputs": [],
   "source": [
    "db_path = \"SEOUL_FESTIVAL.db\"\n",
    "table_nm = \"FESTIVAL_INFO\"\n",
    "con = sqlite3.connect(db_path, timeout=100)"
   ]
  },
  {
   "cell_type": "code",
   "execution_count": 13,
   "metadata": {},
   "outputs": [],
   "source": [
    "cur = con.cursor()\n",
    "cur.execute('PRAGMA table_info({})'.format(table_nm))\n",
    "table_columns = [i[1] for i in cur]\n",
    "\n",
    "add_table = pd.DataFrame(np.zeros(len(table_columns))).T\n",
    "add_table.columns = table_columns"
   ]
  },
  {
   "cell_type": "code",
   "execution_count": 14,
   "metadata": {},
   "outputs": [],
   "source": [
    "cur = con.cursor()\n",
    "cur.execute('SELECT festival_id, 축제명 FROM {}'.format(table_nm))\n",
    "origin_festival_id = [i[0] for i in cur]\n",
    "cur.close()"
   ]
  },
  {
   "cell_type": "code",
   "execution_count": 15,
   "metadata": {},
   "outputs": [],
   "source": [
    "cur = con.cursor()\n",
    "cur.execute('SELECT festival_id, 축제명 FROM {}'.format(table_nm))\n",
    "origin_festival_nm = [i[1] for i in cur]\n",
    "cur.close()"
   ]
  },
  {
   "cell_type": "code",
   "execution_count": 16,
   "metadata": {},
   "outputs": [],
   "source": [
    "# 기존 DB에 없는 축제만 추출\n",
    "festival_new_2 = festival_new.loc[~festival_new['축제명'].isin(origin_festival_nm)]"
   ]
  },
  {
   "cell_type": "code",
   "execution_count": 17,
   "metadata": {},
   "outputs": [],
   "source": [
    "new_festival_id = pd.DataFrame({'festival_id':np.arange(origin_festival_id[-1]+1, origin_festival_id[-1]+1+festival_new_2.shape[0])})"
   ]
  },
  {
   "cell_type": "code",
   "execution_count": 18,
   "metadata": {},
   "outputs": [],
   "source": [
    "new_values = pd.concat([new_festival_id, festival_new_2], 1)\n",
    "add_new_table = pd.concat([add_table, new_values], sort = False).iloc[1:]"
   ]
  },
  {
   "cell_type": "code",
   "execution_count": 19,
   "metadata": {
    "scrolled": true
   },
   "outputs": [],
   "source": [
    "add_new_table['festival_id'] = add_new_table['festival_id'].astype(int)"
   ]
  },
  {
   "cell_type": "code",
   "execution_count": 21,
   "metadata": {},
   "outputs": [],
   "source": [
    "add_new_table['img'] = add_new_table['img'].astype(str)"
   ]
  },
  {
   "cell_type": "code",
   "execution_count": 30,
   "metadata": {},
   "outputs": [],
   "source": [
    "for i in range(add_new_table.shape[0]):\n",
    "    cur = con.cursor()\n",
    "    cur.execute(\"INSERT INTO {} Values {};\".format(table_nm, str(tuple(add_new_table.iloc[i].values)).replace('nan', 'NULL')))\n",
    "    cur.close()\n",
    "\n",
    "con.commit()\n",
    "con.close()"
   ]
  },
  {
   "cell_type": "code",
   "execution_count": null,
   "metadata": {},
   "outputs": [],
   "source": []
  },
  {
   "cell_type": "code",
   "execution_count": null,
   "metadata": {},
   "outputs": [],
   "source": []
  },
  {
   "cell_type": "code",
   "execution_count": null,
   "metadata": {},
   "outputs": [],
   "source": []
  },
  {
   "cell_type": "code",
   "execution_count": null,
   "metadata": {},
   "outputs": [],
   "source": []
  }
 ],
 "metadata": {
  "kernelspec": {
   "display_name": "Python 3",
   "language": "python",
   "name": "python3"
  },
  "language_info": {
   "codemirror_mode": {
    "name": "ipython",
    "version": 3
   },
   "file_extension": ".py",
   "mimetype": "text/x-python",
   "name": "python",
   "nbconvert_exporter": "python",
   "pygments_lexer": "ipython3",
   "version": "3.7.3"
  },
  "toc": {
   "base_numbering": 1,
   "nav_menu": {},
   "number_sections": true,
   "sideBar": true,
   "skip_h1_title": false,
   "title_cell": "Table of Contents",
   "title_sidebar": "Contents",
   "toc_cell": false,
   "toc_position": {
    "height": "calc(100% - 180px)",
    "left": "10px",
    "top": "150px",
    "width": "194.525px"
   },
   "toc_section_display": true,
   "toc_window_display": true
  }
 },
 "nbformat": 4,
 "nbformat_minor": 2
}
