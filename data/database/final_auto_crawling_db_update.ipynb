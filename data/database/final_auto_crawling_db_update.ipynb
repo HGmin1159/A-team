{
 "cells": [
  {
   "cell_type": "code",
   "execution_count": 1,
   "metadata": {},
   "outputs": [],
   "source": [
    "import pandas as pd\n",
    "import numpy as np\n",
    "\n",
    "import requests\n",
    "import json\n",
    "\n",
    "from selenium import webdriver\n",
    "import re\n",
    "from bs4 import BeautifulSoup\n",
    "import sqlite3\n",
    "from datetime import datetime, timedelta\n",
    "\n",
    "\n",
    "import time\n",
    "from konlpy.corpus import kolaw\n",
    "from konlpy.tag import Kkma\n",
    "import nltk\n",
    "import konlpy\n",
    "\n",
    "import pickle\n",
    "import joblib"
   ]
  },
  {
   "cell_type": "markdown",
   "metadata": {},
   "source": [
    "# 축제 정보 크롤링 자동화"
   ]
  },
  {
   "cell_type": "markdown",
   "metadata": {},
   "source": [
    "## 기간지정"
   ]
  },
  {
   "cell_type": "code",
   "execution_count": 2,
   "metadata": {},
   "outputs": [],
   "source": [
    "start_date = '{}'.format(datetime.now().strftime(\"%Y%m%d\"))\n",
    "end_date = '{}'.format((datetime.now()+ timedelta(days=30)).strftime(\"%Y%m%d\"))"
   ]
  },
  {
   "cell_type": "code",
   "execution_count": 3,
   "metadata": {
    "code_folding": [],
    "scrolled": true
   },
   "outputs": [],
   "source": [
    "driver = webdriver.Chrome('C:/Users/MINJI/chromedriver')\n",
    "search_period = [start_date, end_date]\n",
    "page_num = 1\n",
    "\n",
    "driver.get('https://www.mcst.go.kr/kor/s_culture/festival/festivalList.jsp?pMenuCD=&pCurrentPage={}&pSearchType=01&pSearchWord=&pSeq=&pSido=01&pOrder=01down&pPeriod=&fromDt={}&toDt={}search_period'.format(page_num, search_period[0], search_period[1]))\n",
    "tmp = driver.find_element_by_xpath('//*[@id=\"content\"]/div[2]/div[3]/span')\n",
    "p = re.compile('총 [\\d]+건').match(tmp.text).group()\n",
    "total_festival_num = int(re.findall('\\d+', p )[0])\n",
    "\n",
    "if total_festival_num%5 == 0: \n",
    "    last_page_num = int(total_festival_num/5)\n",
    "else:\n",
    "    last_page_num = int(total_festival_num/5)+1\n",
    "    \n",
    "\n",
    "res = []  \n",
    "for page_num in range(1, last_page_num+1):\n",
    "    #print(page_num)\n",
    "    driver.get('https://www.mcst.go.kr/kor/s_culture/festival/festivalList.jsp?pMenuCD=&pCurrentPage={}&pSearchType=01&pSearchWord=&pSeq=&pSido=01&pOrder=01down&pPeriod=&fromDt={}&toDt={}search_period'.format(page_num, search_period[0], search_period[1]))\n",
    "\n",
    "    html2 = driver.page_source\n",
    "    soup2 = BeautifulSoup(html2, 'html.parser')\n",
    "\n",
    "    bb = soup2.find_all('p', attrs={'class':'title'})\n",
    "\n",
    "    for i in range(1, len(bb)+1):\n",
    "        \n",
    "        tmp = driver.find_element_by_xpath('//*[@id=\"content\"]/div[2]/ul/li[{}]/a'.format(i))\n",
    "\n",
    "        tmp.click()\n",
    "\n",
    "        html2 = driver.page_source\n",
    "        soup2 = BeautifulSoup(html2, 'html.parser')\n",
    "\n",
    "        if soup2.find('p', attrs={'class':'errorInfo'}):\n",
    "            continue\n",
    "        else:\n",
    "            festival_info = dict()\n",
    "\n",
    "            festival_name = soup2.find('div', attrs={'class': 'view_title color04'}).text\n",
    "            festival_img = soup2.find('div', attrs={'class': 'culture_view_img'}).find('img')\n",
    "\n",
    "            festival_info['title'] = festival_name\n",
    "            festival_info['img'] = festival_img\n",
    "\n",
    "            for dt, dd in zip(soup2.find_all('dt'), soup2.find_all('dd')):\n",
    "                festival_info[dt.text] = dd.text.strip()\n",
    "\n",
    "            festival_info['explanation'] = soup2.find('div', attrs={'class': 'view_con color04'}).text\n",
    "\n",
    "            res.append(festival_info)\n",
    "\n",
    "        driver.get('https://www.mcst.go.kr/kor/s_culture/festival/festivalList.jsp?pMenuCD=&pCurrentPage={}&pSearchType=01&pSearchWord=&pSeq=&pSido=01&pOrder=01down&pPeriod=&fromDt={}&toDt={}search_period'.format(page_num, search_period[0], search_period[1]))\n",
    "    page_num += 1"
   ]
  },
  {
   "cell_type": "code",
   "execution_count": 4,
   "metadata": {},
   "outputs": [],
   "source": [
    "festival_new = pd.DataFrame(res)"
   ]
  },
  {
   "cell_type": "markdown",
   "metadata": {},
   "source": [
    "## 축제장소 수정"
   ]
  },
  {
   "cell_type": "code",
   "execution_count": 5,
   "metadata": {},
   "outputs": [],
   "source": [
    "festival_new['축제장소_수정'] = festival_new['축제장소'].str.split(',', expand=True).iloc[:, 0]"
   ]
  },
  {
   "cell_type": "markdown",
   "metadata": {},
   "source": [
    "### 축제 장소가 NA면 '없음'으로 표시"
   ]
  },
  {
   "cell_type": "code",
   "execution_count": 6,
   "metadata": {},
   "outputs": [],
   "source": [
    "festival_new['축제장소_수정'] = np.where(festival_new['축제장소_수정'].isnull(), '없음', festival_new['축제장소_수정'])"
   ]
  },
  {
   "cell_type": "code",
   "execution_count": 7,
   "metadata": {
    "scrolled": true
   },
   "outputs": [],
   "source": [
    "festival_new['축제장소_수정'] = np.where(festival_new['축제장소'].str.contains('코엑스'), '코엑스', festival_new['축제장소_수정'])\n",
    "festival_new['축제장소_수정'] = np.where(festival_new['축제장소'].str.contains('Coex'), '코엑스', festival_new['축제장소_수정'])\n",
    "festival_new['축제장소_수정'] = np.where(festival_new['축제장소'].str.contains('예술의'), '예술의 전당',festival_new['축제장소_수정'])\n",
    "festival_new['축제장소_수정'] = np.where(festival_new['축제장소'].str.contains('혜화'), '혜화역', festival_new['축제장소_수정'])\n",
    "festival_new['축제장소_수정'] = np.where(festival_new['축제장소'].str.contains('한성대입구'), '한성대입구역', festival_new['축제장소_수정'])\n",
    "festival_new['축제장소_수정'] = np.where(festival_new['축제장소'].str.contains('홍문관'), '홍익대학교 홍문관', festival_new['축제장소_수정'])\n",
    "festival_new['축제장소_수정'] = np.where(festival_new['축제장소'].str.contains('남산'),  '남산골한옥마을', festival_new['축제장소_수정'])\n",
    "festival_new['축제장소_수정'] = np.where(festival_new['축제장소'].str.contains('주차장'),  '홍익대학교', festival_new['축제장소_수정'])\n",
    "festival_new['축제장소_수정'] = np.where(festival_new['축제장소'].str.contains('압구정'),  '압구정로데오역', festival_new['축제장소_수정'])\n",
    "festival_new['축제장소_수정'] = np.where(festival_new['축제장소'].str.contains('대학로예술극장'),  '대학로예술극장', festival_new['축제장소_수정'])\n",
    "festival_new['축제장소_수정'] = np.where(festival_new['축제장소'].str.contains('여의도 물빛무대'),  '여의도 물빛무대', festival_new['축제장소_수정'])\n",
    "festival_new['축제장소_수정'] = np.where(festival_new['축제장소'].str.contains('국립한글박물관'),  '국립한글박물관', festival_new['축제장소_수정'])\n",
    "festival_new['축제장소_수정'] = np.where(festival_new['축제장소'].str.contains('정동'),  '서울시 중구 정동길', festival_new['축제장소_수정'])\n",
    "festival_new['축제장소_수정'] = np.where(festival_new['축제장소'].str.contains('서울시청'),  '서울시청광장', festival_new['축제장소_수정'])\n",
    "festival_new['축제장소_수정'] = np.where(festival_new['축제장소'].str.contains('능동로'),  '서울 능동로', festival_new['축제장소_수정'])\n",
    "festival_new['축제장소_수정'] = np.where(festival_new['축제장소'].str.contains('청계광장'),  '청계광장', festival_new['축제장소_수정'])\n",
    "festival_new['축제장소_수정'] = np.where(festival_new['축제장소'].str.contains('강동구청'),  '강동구청', festival_new['축제장소_수정'])\n",
    "festival_new['축제장소_수정'] = np.where(festival_new['축제장소'].str.contains('서울산업진흥원'), '서울산업진흥원', festival_new['축제장소_수정'])\n",
    "festival_new['축제장소_수정'] = np.where(festival_new['축제장소'].str.contains('서울광장'), '서울시청광장', festival_new['축제장소_수정'])\n",
    "festival_new['축제장소_수정'] = np.where(festival_new['축제장소'].str.contains('정동'), '서울 중구 정동길', festival_new['축제장소_수정'])\n",
    "festival_new['축제장소_수정'] = np.where(festival_new['축제장소'].str.contains('KBS'), 'KBS홀', festival_new['축제장소_수정'])\n",
    "festival_new['축제장소_수정'] = np.where(festival_new['축제장소'].str.contains('홍대 롤링홀'), '홍대 롤링홀', festival_new['축제장소_수정'])\n",
    "festival_new['축제장소_수정'] = np.where(festival_new['축제장소'].str.contains('학여울역 SETEC 제2/3 전시실'), 'SETEC', festival_new['축제장소_수정'])\n",
    "festival_new['축제장소_수정'] = np.where(festival_new['축제장소'].str.contains('4대궁 및 종묘'), '창덕궁', festival_new['축제장소_수정'])\n",
    "festival_new['축제장소_수정'] = np.where(festival_new['축제장소'].str.contains('대학로'), '대학로예술극장', festival_new['축제장소_수정'])\n",
    "festival_new['축제장소_수정'] = np.where(festival_new['축제장소'].str.contains('여의도 한강공원 일대'), '여의도 한강공원', festival_new['축제장소_수정'])\n",
    "festival_new['축제장소_수정'] = np.where(festival_new['축제장소'].str.contains('고척돔'), '고척스카이돔', festival_new['축제장소_수정'])\n",
    "festival_new['축제장소_수정'] = np.where(festival_new['축제장소'].str.contains('강서구 개화산'), '강서구 개화산', festival_new['축제장소_수정'])\n",
    "festival_new['축제장소_수정'] = np.where(festival_new['축제장소'].str.contains('국립한글박물관'),  '국립한글박물관', festival_new['축제장소_수정'])\n",
    "festival_new['축제장소_수정'] = np.where(festival_new['축제장소'].str.contains('인왕산 청운공원'), '인왕산 청운공원', festival_new['축제장소_수정'])\n",
    "festival_new['축제장소_수정'] = np.where(festival_new['축제장소'].str.contains('세빛섬'), '세빛섬', festival_new['축제장소_수정'])\n",
    "festival_new['축제장소_수정'] = np.where(festival_new['축제장소'].str.contains('응봉산 팔각정'), '응봉산 팔각정', festival_new['축제장소_수정'])\n",
    "festival_new['축제장소_수정'] = np.where(festival_new['축제장소'].str.contains('아차산 해맞이'), '아차산 해맞이명소', festival_new['축제장소_수정'])\n",
    "festival_new['축제장소_수정'] = np.where(festival_new['축제장소'].str.contains('하늘공원'), '하늘공원', festival_new['축제장소_수정'])\n",
    "festival_new['축제장소_수정'] = np.where(festival_new['축제장소'].str.contains('무역센터'), '코엑스', festival_new['축제장소_수정'])\n",
    "festival_new['축제장소_수정'] = np.where(festival_new['축제장소'].str.contains('W스테이지'), '서울 종로구 북촌로12길 24-5 ', festival_new['축제장소_수정'])\n",
    "festival_new['축제장소_수정'] = np.where(festival_new['축제장소'].str.contains('뚝섬'), '뚝섬한강공원', festival_new['축제장소_수정'])\n",
    "festival_new['축제장소_수정'] = np.where(festival_new['축제장소'].str.contains('연세로'), '신촌 연세로', festival_new['축제장소_수정'])\n",
    "festival_new['축제장소_수정'] = np.where(festival_new['축제장소'].str.contains('호국보훈'), '상암 MBC', festival_new['축제장소_수정'])\n",
    "festival_new['축제장소_수정'] = np.where(festival_new['축제장소'].str.contains('동대문디자인플라자'), '동대문디자인플라자', festival_new['축제장소_수정'])\n",
    "festival_new['축제장소_수정'] = np.where(festival_new['축제장소'].str.contains('국회'), '국회의사당', festival_new['축제장소_수정'])\n",
    "festival_new['축제장소_수정'] = np.where(festival_new['축제장소'].str.contains('현대백화점 목동점'), '현대백화점 목동점', festival_new['축제장소_수정'])\n",
    "festival_new['축제장소_수정'] = np.where(festival_new['축제장소'].str.contains('월드컵공원'), '상암월드컵공원 평화광장', festival_new['축제장소_수정'])\n",
    "festival_new['축제장소_수정'] = np.where(festival_new['축제장소'].str.contains('서래섬'), '서래섬', festival_new['축제장소_수정'])\n",
    "festival_new['축제장소_수정'] = np.where(festival_new['축제장소'].str.contains('11개 한강공원'), '여의도 한강공원', festival_new['축제장소_수정'])\n",
    "festival_new['축제장소_수정'] = np.where(festival_new['축제장소'].str.contains('국립4.19민주묘지'), '국립4.19민주묘지', festival_new['축제장소_수정'])\n",
    "festival_new['축제장소_수정'] = np.where(festival_new['축제장소'].str.contains('최순우옛집'), '최순우옛집', festival_new['축제장소_수정'])\n",
    "festival_new['축제장소_수정'] = np.where(festival_new['축제장소'].str.contains('올림픽공원'), '올림픽공원', festival_new['축제장소_수정'])\n",
    "festival_new['축제장소_수정'] = np.where(festival_new['축제장소'].str.contains('국립한글박물관'), '국립한글박물관', festival_new['축제장소_수정'])"
   ]
  },
  {
   "cell_type": "code",
   "execution_count": 8,
   "metadata": {
    "scrolled": true
   },
   "outputs": [],
   "source": [
    "url = \"https://dapi.kakao.com/v2/local/search/keyword.json\"\n",
    "apikey = \"7f6745340f5774fddc3560cf93bf54b3\" \n",
    "\n",
    "result = list()\n",
    "no_info_festival = list()\n",
    "\n",
    "for nm, location in zip(festival_new['title'], festival_new['축제장소_수정']):\n",
    "    query = location #검색을 원하는 질의어 : 축제 장소\n",
    "\n",
    "    r = requests.get( url, params = {'query':query, 'page':45, 'radius':200}, headers={'Authorization' : 'KakaoAK ' + apikey } ) \n",
    "    #결과를 json 형식으로 반환\n",
    "    data = json.loads(r.text)\n",
    "    #print('축제명: {} \\t\\t 장소: {}'.format(nm, location))\n",
    "    if data['meta']['total_count']!=0:        \n",
    "        for i in data['documents']:\n",
    "            address_name      = i['address_name']\n",
    "            place_name        = i['place_name']\n",
    "            place_url         = i['place_url']\n",
    "            road_address_name = i['road_address_name']\n",
    "            x                 = i['x']\n",
    "            y                 = i['y']\n",
    "\n",
    "            result.append({\n",
    "                '축제명'            : nm,\n",
    "                '축제장소'          : location,\n",
    "                'address_name'      : address_name,\n",
    "                'place_name'        : place_name,\n",
    "                'place_url'         : place_url,\n",
    "                'road_address_name' : road_address_name,\n",
    "                'x'                 : x,\n",
    "                'y'                 : y\n",
    "            })\n",
    "    else:\n",
    "        result.append({\n",
    "            '축제명'            : nm,\n",
    "            '축제장소'          : location,\n",
    "            'address_name'      : None,\n",
    "            'place_name'        : None,\n",
    "            'place_url'         : None,\n",
    "            'road_address_name' : None,\n",
    "            'x'                 : None,\n",
    "            'y'                 : None\n",
    "        })\n",
    "        no_info_festival.append((nm, location))"
   ]
  },
  {
   "cell_type": "code",
   "execution_count": 9,
   "metadata": {},
   "outputs": [],
   "source": [
    "festival_info_new = pd.DataFrame(result, columns = ['축제명', '축제장소','address_name', 'x', 'y', 'road_address_name', 'place_url'])\n",
    "location_new = festival_info_new.loc[festival_info_new['축제장소']!='없음'].drop_duplicates('축제장소')"
   ]
  },
  {
   "cell_type": "markdown",
   "metadata": {},
   "source": [
    "## 그 외 축제정보와 결합"
   ]
  },
  {
   "cell_type": "code",
   "execution_count": 10,
   "metadata": {
    "scrolled": true
   },
   "outputs": [],
   "source": [
    "festival_new = festival_new.rename(columns={'title':'축제명', '관련 누리집':'관련_누리집', '주최/주관기관':'주최_주관기관', 'explanation':'축제설명'})"
   ]
  },
  {
   "cell_type": "code",
   "execution_count": 11,
   "metadata": {
    "scrolled": true
   },
   "outputs": [],
   "source": [
    "festival_new = pd.merge(festival_new[['축제명', 'img', '개최지역', '개최기간', '축제성격', '관련_누리집', '축제장소', '요금', '소요시간',\n",
    "       '연령제한', '주최_주관기관', '문의', '축제설명']], location_new[['축제명', 'address_name', 'x', 'y', 'road_address_name',\n",
    "       'place_url']], on='축제명', how='left')"
   ]
  },
  {
   "cell_type": "markdown",
   "metadata": {},
   "source": [
    "# DB에 업데이트"
   ]
  },
  {
   "cell_type": "code",
   "execution_count": 12,
   "metadata": {},
   "outputs": [],
   "source": [
    "db_path = \"SEOUL_FESTIVAL.db\"\n",
    "table_nm = \"FESTIVAL_INFO\"\n",
    "con = sqlite3.connect(db_path, timeout=100)"
   ]
  },
  {
   "cell_type": "code",
   "execution_count": 13,
   "metadata": {},
   "outputs": [],
   "source": [
    "cur = con.cursor()\n",
    "cur.execute('PRAGMA table_info({})'.format(table_nm))\n",
    "table_columns = [i[1] for i in cur]\n",
    "\n",
    "add_table = pd.DataFrame(np.zeros(len(table_columns))).T\n",
    "add_table.columns = table_columns"
   ]
  },
  {
   "cell_type": "code",
   "execution_count": 14,
   "metadata": {},
   "outputs": [],
   "source": [
    "cur = con.cursor()\n",
    "cur.execute('SELECT festival_id, 축제명 FROM {}'.format(table_nm))\n",
    "origin_festival_id = [i[0] for i in cur]\n",
    "cur.close()\n",
    "\n",
    "cur = con.cursor()\n",
    "cur.execute('SELECT festival_id, 축제명 FROM {}'.format(table_nm))\n",
    "origin_festival_nm = [i[1] for i in cur]\n",
    "cur.close()"
   ]
  },
  {
   "cell_type": "code",
   "execution_count": 15,
   "metadata": {},
   "outputs": [],
   "source": [
    "# 기존 DB에 없는 축제만 추출\n",
    "festival_new_2 = festival_new.loc[~festival_new['축제명'].isin(origin_festival_nm)].reset_index(drop=True)\n",
    "\n",
    "new_festival_id = pd.DataFrame({'festival_id':np.arange(origin_festival_id[-1]+1, origin_festival_id[-1]+1+festival_new_2.shape[0])})\n",
    "new_values = pd.concat([new_festival_id, festival_new_2], 1)\n",
    "add_new_table = pd.concat([add_table, new_values], sort = False).iloc[1:]\n",
    "\n",
    "add_new_table['festival_id'] = add_new_table['festival_id'].astype(int)\n",
    "add_new_table['img'] = add_new_table['img'].astype(str)\n",
    "\n",
    "for i in range(add_new_table.shape[0]):\n",
    "    cur = con.cursor()\n",
    "    cur.execute(\"INSERT INTO {} Values {};\".format(table_nm, str(tuple(add_new_table.iloc[i].values)).replace('nan', 'NULL').replace('None', 'NULL')))\n",
    "    cur.close()\n",
    "\n",
    "con.commit()\n",
    "con.close()"
   ]
  },
  {
   "cell_type": "markdown",
   "metadata": {},
   "source": [
    "# DB에 음식점 추가"
   ]
  },
  {
   "cell_type": "code",
   "execution_count": 16,
   "metadata": {},
   "outputs": [],
   "source": [
    "# 음식점 정보 가져오기(카카오)\n",
    "\n",
    "# import sqlite3, requests\n",
    "from collections import OrderedDict\n",
    "\n",
    "def create_restaurants(c):\n",
    "    c.execute(\"DROP TABLE IF EXISTS RESTAURANT_INFO\")\n",
    "    c.execute('''CREATE TABLE \"RESTAURANT_INFO\" (\n",
    "            \"id\" INTEGER PRIMARY KEY,\n",
    "            \"place_name\" TEXT,\n",
    "            \"category_name\" TEXT,\n",
    "            \"category_group_code\" TEXT,\n",
    "            \"category_group_name\" TEXT,\n",
    "            \"phone\" TEXT,\n",
    "            \"address_name\" TEXT,\n",
    "            \"road_address_name\" TEXT,\n",
    "            \"x\" REAL,\n",
    "            \"y\" REAL,\n",
    "            \"place_url\" TEXT\n",
    "    );''')\n",
    "\n",
    "def create_festival_restaurants(c):\n",
    "    c.execute(\"DROP TABLE IF EXISTS FESTIVAL_RESTAURANT\")\n",
    "    c.execute('''CREATE TABLE FESTIVAL_RESTAURANT (\n",
    "        festival_id INTEGER,\n",
    "        restaurants_id INTEGER,\n",
    "        distance INTEGER,\n",
    "        FOREIGN KEY(festival_id) REFERENCES FESTIVAL_INFO(festival_id) ON DELETE SET NULL,\n",
    "        FOREIGN KEY(restaurants_id) REFERENCES RESTAURANT_INFO(id) ON DELETE SET NULL\n",
    "    )''')\n",
    "\n",
    "KEYS = ['id', 'place_name', 'category_name', 'category_group_code',\n",
    "        'category_group_name', 'phone', 'address_name', 'road_address_name',\n",
    "        'x', 'y', 'place_url', 'distance']\n",
    "\n",
    "def get_restaurant(lng, lat, page):\n",
    "    rsp = requests.get(url,\n",
    "                       params={\"category_group_code\": \"FD6\",\n",
    "                               'x': str(lng), 'y': str(lat),\n",
    "                               \"radius\": 1000, \"page\": page, \"size\": 15},\n",
    "                       headers={\"Authorization\": \"KakaoAK \" + apikey}\n",
    "                       )\n",
    "    if rsp.status_code != 200:\n",
    "        raise Exception(rsp.status_code)\n",
    "    return rsp.json()\n",
    "\n",
    "def db_session_add(doc, pk, c):\n",
    "    for d in doc:\n",
    "        d = OrderedDict((k, d[k]) for k in KEYS)\n",
    "        t = []\n",
    "        for k, v in d.items():\n",
    "            if k != \"id\" and k != \"distance\":\n",
    "                t.append(v)\n",
    "            elif k == \"id\":\n",
    "                t.append(int(v))\n",
    "                res_id = int(v)\n",
    "            else:\n",
    "                dist = int(v)\n",
    "        c.execute('INSERT INTO FESTIVAL_RESTAURANT VALUES (?,?,?)',\n",
    "                  (pk, res_id, dist))\n",
    "        c.execute(\n",
    "            'INSERT OR IGNORE INTO RESTAURANT_INFO VALUES (?,?,?,?,?,?,?,?,?,?,?)', tuple(t))\n",
    "\n",
    "def fetch_fes(c):\n",
    "    \"\"\"\n",
    "    in: connection\n",
    "    out: list\n",
    "    \"\"\"\n",
    "    c.execute(\"\"\"SELECT festival_id, x, y \n",
    "                FROM FESTIVAL_INFO\n",
    "                WHERE x > 0;\"\"\")\n",
    "    lst = [dict(zip(('id', 'x', 'y'), row)) for row in c]\n",
    "    return lst\n",
    "\n",
    "\n",
    "url = \"https://dapi.kakao.com/v2/local/search/category.json\"\n",
    "\n",
    "con = sqlite3.connect(db_path)\n",
    "\n",
    "cur = con.cursor()\n",
    "\n",
    "create_restaurants(cur)\n",
    "\n",
    "create_festival_restaurants(cur)\n",
    "\n",
    "for festival in fetch_fes(cur):\n",
    "    page = 1\n",
    "    resp = get_restaurant(festival['x'], festival['y'], page)\n",
    "    while not resp[\"meta\"][\"is_end\"]:\n",
    "        doc = resp[\"documents\"]\n",
    "        db_session_add(doc, festival['id'], cur)\n",
    "        page += 1\n",
    "        resp = get_restaurant(festival['x'], festival['y'], page)\n",
    "    doc = resp[\"documents\"]\n",
    "    db_session_add(doc, festival['id'], cur)\n",
    "\n",
    "con.commit()\n",
    "con.close()"
   ]
  },
  {
   "cell_type": "markdown",
   "metadata": {},
   "source": [
    "# 연령 클러스터 예측"
   ]
  },
  {
   "cell_type": "code",
   "execution_count": 17,
   "metadata": {},
   "outputs": [],
   "source": [
    "con = sqlite3.connect(db_path)\n",
    "cur = con.cursor()\n",
    "cur.execute('SELECT * FROM FESTIVAL_CLUSTER')\n",
    "cluster_before = pd.DataFrame(cur.fetchall(), columns=['festival_id', '축제명', '클러스터'])\n",
    "cur.close()"
   ]
  },
  {
   "cell_type": "code",
   "execution_count": 18,
   "metadata": {},
   "outputs": [],
   "source": [
    "cur = con.cursor()\n",
    "cur.execute('SELECT * FROM FESTIVAL_info')\n",
    "festival_updated = pd.DataFrame(cur.fetchall(), columns=table_columns)\n",
    "cur.close()\n",
    "con.close()"
   ]
  },
  {
   "cell_type": "code",
   "execution_count": 19,
   "metadata": {},
   "outputs": [],
   "source": [
    "# DB에서 가져오기\n",
    "target_festival = festival_updated.loc[festival_updated['festival_id'].isin(set(festival_updated['festival_id']) - set(cluster_before['festival_id']))][[\"festival_id\",\"축제명\",\"축제설명\"]]"
   ]
  },
  {
   "cell_type": "markdown",
   "metadata": {},
   "source": [
    "#### 크롤링 과정\n",
    "- 축제명을 네이버 뉴스에 검색\n",
    "- 상위 5개 뉴스 헤드라인과 미리보기 문단을 크롤링\n",
    "- 데이터 프레임을 새로 만들어 축제명을 키로 하여 관련 글귀를 저장"
   ]
  },
  {
   "cell_type": "markdown",
   "metadata": {},
   "source": [
    "#### 2019년 데이터의 경우 축제명 끝에 2019가 달려있었기 때문에 이를 제거해주는 작업을 해줌"
   ]
  },
  {
   "cell_type": "code",
   "execution_count": 20,
   "metadata": {},
   "outputs": [],
   "source": [
    "target_festival[\"축제명_수정\"]=target_festival[\"축제명\"].map(lambda x : x[:-4])"
   ]
  },
  {
   "cell_type": "markdown",
   "metadata": {},
   "source": [
    "### B.축제 키워드 크롤링 - 불러오기"
   ]
  },
  {
   "cell_type": "markdown",
   "metadata": {},
   "source": [
    "#### 2015,2016년 크롤링"
   ]
  },
  {
   "cell_type": "code",
   "execution_count": 44,
   "metadata": {},
   "outputs": [],
   "source": [
    "target_festag = pd.DataFrame()\n",
    "for j in range(len(target_festival[\"축제명_수정\"])) :\n",
    "    url = \"https://search.naver.com/search.naver?where=news&sm=tab_jum&query=\" + str(target_festival[\"축제명_수정\"].iloc[j])\n",
    "    res = requests.get(url=url)\n",
    "\n",
    "    soup = BeautifulSoup(res.text,\"html.parser\")\n",
    "    test = []\n",
    "    \n",
    "    for i in range(10) :\n",
    "        temp = soup.select(\"#sp_nws\"+str(i)+\" > dl > dd:nth-of-type(2)\")\n",
    "        \n",
    "        #temp = soup.select(\"a._sp_each_url\")\n",
    "        test.append(str(temp))\n",
    "    target_festag = target_festag.append(pd.DataFrame(np.array([target_festival[\"축제명_수정\"].iloc[j],test]).reshape(1,-1)))\n",
    "    time.sleep(1)"
   ]
  },
  {
   "cell_type": "markdown",
   "metadata": {},
   "source": [
    "## 2.자연어 처리"
   ]
  },
  {
   "cell_type": "markdown",
   "metadata": {},
   "source": [
    "### A.뉴스 키워드 자연어 처리"
   ]
  },
  {
   "cell_type": "code",
   "execution_count": 45,
   "metadata": {},
   "outputs": [],
   "source": [
    "kkma = Kkma()"
   ]
  },
  {
   "cell_type": "code",
   "execution_count": 47,
   "metadata": {},
   "outputs": [],
   "source": [
    "target_festag.columns = [\"축제명_수정\",\"축제주요내용\"]"
   ]
  },
  {
   "cell_type": "code",
   "execution_count": 48,
   "metadata": {},
   "outputs": [],
   "source": [
    "target_festag.index= range(len(target_festag))"
   ]
  },
  {
   "cell_type": "code",
   "execution_count": 49,
   "metadata": {},
   "outputs": [],
   "source": [
    "target_festag_nouns = target_festag"
   ]
  },
  {
   "cell_type": "code",
   "execution_count": 50,
   "metadata": {
    "scrolled": true
   },
   "outputs": [],
   "source": [
    "for i in range(len( target_festag)) :\n",
    "    container =  target_festag[\"축제주요내용\"][i]\n",
    "    target_festag_nouns[\"축제주요내용\"][i] = kkma.nouns(''.join(container))"
   ]
  },
  {
   "cell_type": "code",
   "execution_count": 122,
   "metadata": {},
   "outputs": [],
   "source": [
    "#pd.DataFrame(['축제'] + list(keyword['축제'].values)).rename(columns={0:'keyword'}).to_csv(\"keyword.csv\", encoding='cp949', index=False)\n",
    "keyword = pd.read_csv(\"keyword.csv\", encoding='cp949')"
   ]
  },
  {
   "cell_type": "code",
   "execution_count": 126,
   "metadata": {
    "scrolled": true
   },
   "outputs": [],
   "source": [
    "target_tag = dict()\n",
    "for i in keyword['keyword'] :\n",
    "    #print(i)\n",
    "    tmp_tag_list = []\n",
    "    for j in target_festag_nouns[\"축제주요내용\"]:\n",
    "        tmp_tag_list.append(i in j)\n",
    "    target_tag[i] = tmp_tag_list"
   ]
  },
  {
   "cell_type": "code",
   "execution_count": 127,
   "metadata": {},
   "outputs": [],
   "source": [
    "target_tag = pd.DataFrame(target_tag).applymap(int)"
   ]
  },
  {
   "cell_type": "markdown",
   "metadata": {},
   "source": [
    "## 클러스터 예측"
   ]
  },
  {
   "cell_type": "code",
   "execution_count": 129,
   "metadata": {},
   "outputs": [],
   "source": [
    "model = joblib.load(\"festival_age_prediction.pkl\")"
   ]
  },
  {
   "cell_type": "code",
   "execution_count": 135,
   "metadata": {},
   "outputs": [],
   "source": [
    "target_festival['클러스터'] = model.predict(target_tag).astype(int)"
   ]
  },
  {
   "cell_type": "markdown",
   "metadata": {},
   "source": [
    "## DB에 추가"
   ]
  },
  {
   "cell_type": "code",
   "execution_count": 137,
   "metadata": {},
   "outputs": [],
   "source": [
    "def insert_values_to_table(db_path, table_nm, column_info, data):\n",
    "    con = sqlite3.connect(db_path, timeout=100)\n",
    "      \n",
    "    for i in range(data.shape[0]):\n",
    "        cur = con.cursor()\n",
    "        cur.execute(\"INSERT INTO {} Values {};\".format(table_nm, str(tuple(data.iloc[i].values)).replace('nan', 'NULL')))\n",
    "        cur.close()\n",
    "    \n",
    "    con.commit()\n",
    "    con.close()"
   ]
  },
  {
   "cell_type": "code",
   "execution_count": 139,
   "metadata": {},
   "outputs": [],
   "source": [
    "db_path = \"SEOUL_FESTIVAL.db\"\n",
    "table_nm = \"FESTIVAL_CLUSTER\"\n",
    "column_info = \"festival_id INTEGER, 축제명 TEXT, 클러스터 INTEGER\"\n",
    "data = target_festival[['festival_id', '축제명', '클러스터']]\n",
    "\n",
    "insert_values_to_table(db_path, table_nm, column_info, data)"
   ]
  },
  {
   "cell_type": "code",
   "execution_count": 142,
   "metadata": {},
   "outputs": [],
   "source": [
    "con = sqlite3.connect(db_path, timeout=100)\n",
    "cur = con.cursor()\n",
    "cur.execute('SELECT * FROM {}'.format(table_nm))\n",
    "ff = cur.fetchall()\n",
    "cur.close()"
   ]
  }
 ],
 "metadata": {
  "kernelspec": {
   "display_name": "Python 3",
   "language": "python",
   "name": "python3"
  },
  "language_info": {
   "codemirror_mode": {
    "name": "ipython",
    "version": 3
   },
   "file_extension": ".py",
   "mimetype": "text/x-python",
   "name": "python",
   "nbconvert_exporter": "python",
   "pygments_lexer": "ipython3",
   "version": "3.7.3"
  },
  "toc": {
   "base_numbering": 1,
   "nav_menu": {},
   "number_sections": true,
   "sideBar": true,
   "skip_h1_title": false,
   "title_cell": "Table of Contents",
   "title_sidebar": "Contents",
   "toc_cell": false,
   "toc_position": {
    "height": "calc(100% - 180px)",
    "left": "10px",
    "top": "150px",
    "width": "194.525px"
   },
   "toc_section_display": true,
   "toc_window_display": true
  }
 },
 "nbformat": 4,
 "nbformat_minor": 2
}
