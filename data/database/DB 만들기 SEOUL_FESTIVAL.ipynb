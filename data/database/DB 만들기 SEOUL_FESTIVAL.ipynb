{
 "cells": [
  {
   "cell_type": "code",
   "execution_count": 1,
   "metadata": {},
   "outputs": [],
   "source": [
    "import pandas as pd\n",
    "import numpy as np\n",
    "import sqlite3"
   ]
  },
  {
   "cell_type": "code",
   "execution_count": 2,
   "metadata": {},
   "outputs": [],
   "source": [
    "def create_table_and_insert(db_path, table_nm, column_info, data):\n",
    "    con = sqlite3.connect(db_path, timeout=100)\n",
    "    \n",
    "    cur = con.cursor()\n",
    "    cur.execute(\"drop table if exists {};\".format(table_nm))\n",
    "    cur.close()\n",
    "    \n",
    "    cur = con.cursor()\n",
    "    cur.execute(\"CREATE TABLE {}({});\".format(table_nm, column_info))\n",
    "    cur.close()\n",
    "    \n",
    "    for i in range(data.shape[0]):\n",
    "        cur = con.cursor()\n",
    "        cur.execute(\"INSERT INTO {} Values {};\".format(table_nm, str(tuple(data.iloc[i].values)).replace('nan', 'NULL')))\n",
    "        cur.close()\n",
    "    \n",
    "    con.commit()\n",
    "    con.close()\n",
    "    \n",
    "    print('{} 생성 완료'.format(table_nm))    "
   ]
  },
  {
   "cell_type": "markdown",
   "metadata": {},
   "source": [
    "# FLOAT_POP"
   ]
  },
  {
   "cell_type": "code",
   "execution_count": 14,
   "metadata": {},
   "outputs": [
    {
     "name": "stdout",
     "output_type": "stream",
     "text": [
      "FLOAT_POP 생성 완료\n"
     ]
    }
   ],
   "source": [
    "float_pop = pd.read_excel(\"float_pop.xlsx\", encoding='cp949')\n",
    "\n",
    "db_path = \"SEOUL_FESTIVAL.db\"\n",
    "table_nm = \"FLOAT_POP\"\n",
    "column_info = \"festival_no INTEGER, STD_YM INTEGER, STD_YMD INTEGER,  ANAL_DAY TEXT, MAN_10 NUMERIC, MAN_20 NUMERIC, MAN_30 NUMERIC, MAN_40 NUMERIC, MAN_50 NUMERIC, MAN_60 NUMERIC, WMAN_10 NUMERIC, WMAN_20 NUMERIC, WMAN_30 NUMERIC, WMAN_40 NUMERIC, WMAN_50 NUMERIC, WMAN_60 NUMERIC\"\n",
    "data = float_pop[['festival_no', 'STD_YM', 'STD_YMD', '분석기준일', 'MAN_10', 'MAN_20',\n",
    "       'MAN_30', 'MAN_40', 'MAN_50', 'MAN_60', 'WMAN_10', 'WMAN_20',\n",
    "       'WMAN_30', 'WMAN_40', 'WMAN_50', 'WMAN_60']].iloc[:73]\n",
    "\n",
    "create_table_and_insert(db_path, table_nm, column_info, data)"
   ]
  },
  {
   "cell_type": "markdown",
   "metadata": {},
   "source": [
    "# FESTIVAL_INFO_1516"
   ]
  },
  {
   "cell_type": "code",
   "execution_count": 16,
   "metadata": {},
   "outputs": [
    {
     "name": "stdout",
     "output_type": "stream",
     "text": [
      "FESTIVAL_INFO_1516 생성 완료\n"
     ]
    }
   ],
   "source": [
    "festival_info_1516 = pd.read_excel(\"festival_info_1516_completed.xlsx\", encoding='cp949')\n",
    "\n",
    "festival_info_1516['시작일'] = festival_info_1516['시작일'].astype(str)\n",
    "festival_info_1516['종료일'] = festival_info_1516['종료일'].astype(str)\n",
    "\n",
    "festival_info_1516.columns = ['festival_no', '축제명', '시작일', '종료일', '축제장소', '축제설명', '관련_누리집',\n",
    "       '문의', '부대행사', '소요시간', '소요예산', '연령제한', '오시는_길', '요금',\n",
    "       '주최_주관기관', '축제성격', '축제참가인원', 'address_name', 'x', 'y',\n",
    "       'road_address_name', 'place_url', '개최년도', '축제일수', 'x_5178',\n",
    "       'y_5178', 'x_5179', 'y_5179', '개최년월', 'wk_1_before', 'wk_2_before',\n",
    "       'wk_1_after', 'wk_2_after', '분석일', '비교년월_전_1', '비교년월_전_2',\n",
    "       '비교년월_후_1', '비교년월_후_2']\n",
    "\n",
    "db_path = \"SEOUL_FESTIVAL.db\"\n",
    "table_nm = \"FESTIVAL_INFO_1516\"\n",
    "column_info = \"festival_no INTEGER, 축제명 TEXT, 시작일 TEXT, 종료일 TEXT, 축제장소 TEXT, 축제설명 TEXT, 관련_누리집 TEXT, 문의 TEXT, 부대행사 TEXT, 소요시간 TEXT, 소요예산 TEXT, 연령제한 TEXT, 오시는_길 TEXT, 요금 TEXT, 주최_주관기관 TEXT, 축제성격 TEXT, 축제참가인원 TEXT, address_name TEXT, x NUMERIC, y NUMERIC,road_address_name TEXT, place_url TEXT\"\n",
    "data = festival_info_1516[['festival_no', '축제명', '시작일', '종료일', '축제장소', '축제설명', '관련_누리집',\n",
    "       '문의', '부대행사', '소요시간', '소요예산', '연령제한', '오시는_길', '요금',\n",
    "       '주최_주관기관', '축제성격', '축제참가인원', 'address_name', 'x', 'y',\n",
    "       'road_address_name', 'place_url']]\n",
    "\n",
    "create_table_and_insert(db_path, table_nm, column_info, data)"
   ]
  },
  {
   "cell_type": "code",
   "execution_count": null,
   "metadata": {},
   "outputs": [],
   "source": []
  },
  {
   "cell_type": "markdown",
   "metadata": {},
   "source": [
    "# FESTIVAL_INFO"
   ]
  },
  {
   "cell_type": "code",
   "execution_count": 17,
   "metadata": {},
   "outputs": [
    {
     "name": "stdout",
     "output_type": "stream",
     "text": [
      "FESTIVAL_INFO 생성 완료\n"
     ]
    }
   ],
   "source": [
    "festival_crawling_2019 = pd.read_excel(\"festival_crawling_2019.xlsx\", encoding='cp949').iloc[:, 1:]\n",
    "\n",
    "festival_crawling_2019 = festival_crawling_2019.reset_index().rename(columns={'index':'festival_id'})\n",
    "festival_crawling_2019['festival_id'] = festival_crawling_2019['festival_id']+1\n",
    "\n",
    "festival_crawling_2019.columns = ['festival_id', '축제명', 'img', '개최지역', '개최기간', '축제성격', '관련_누리집',\n",
    "       '축제장소', '요금', '소요시간', '연령제한', '주최_주관기관', '문의', '축제설명',\n",
    "       '오시는_길', '부대행사', '축제장소_수정', '축제명_수정', 'address_name', 'x', 'y',\n",
    "       'road_address_name', 'place_url']\n",
    "\n",
    "db_path = \"SEOUL_FESTIVAL.db\"\n",
    "table_nm = \"FESTIVAL_INFO\"\n",
    "column_info = \"festival_id INTEGER, 축제명 TEXT, img TEXT, 개최지역 TEXT, 개최기간 TEXT, 축제성격 TEXT, 관련_누리집 TEXT, 축제장소 TEXT, 요금 TEXT, 소요시간 TEXT, 연령제한 TEXT, 주최_주관기관 TEXT, 문의 TEXT, 축제설명 TEXT, 오시는_길 TEXT, 부대행사 TEXT,  address_name TEXT, x NUMERIC, y NUMERIC, road_address_name TEXT, place_url TEXT\"\n",
    "data = festival_crawling_2019[['festival_id', '축제명', 'img', '개최지역', '개최기간', '축제성격', '관련_누리집',\n",
    "       '축제장소', '요금', '소요시간', '연령제한', '주최_주관기관', '문의', '축제설명',\n",
    "       '오시는_길', '부대행사', 'address_name', 'x', 'y','road_address_name', 'place_url']]\n",
    "\n",
    "create_table_and_insert(db_path, table_nm, column_info, data)"
   ]
  },
  {
   "cell_type": "markdown",
   "metadata": {},
   "source": [
    "# FESTIVAL_CLUSTER"
   ]
  },
  {
   "cell_type": "code",
   "execution_count": 18,
   "metadata": {},
   "outputs": [
    {
     "name": "stdout",
     "output_type": "stream",
     "text": [
      "FESTIVAL_CLUSTER 생성 완료\n"
     ]
    }
   ],
   "source": [
    "predict_cluster = pd.read_csv(\"2019년 축제 클러스터 라벨.txt\").iloc[:, 1:]\n",
    "predict_cluster.columns = ['축제명', '클러스터']\n",
    "\n",
    "db_path = \"SEOUL_FESTIVAL.db\"\n",
    "table_nm = \"FESTIVAL_CLUSTER\"\n",
    "column_info = \"festival_id INTEGER, 축제명 TEXT, 클러스터 INTEGER\"\n",
    "data = pd.concat([festival_crawling_2019[['festival_id', '축제명']], predict_cluster['클러스터']], 1)\n",
    "\n",
    "create_table_and_insert(db_path, table_nm, column_info, data)"
   ]
  },
  {
   "cell_type": "markdown",
   "metadata": {},
   "source": [
    "# RESTAURANT_INFO"
   ]
  },
  {
   "cell_type": "code",
   "execution_count": null,
   "metadata": {},
   "outputs": [],
   "source": []
  },
  {
   "cell_type": "code",
   "execution_count": null,
   "metadata": {},
   "outputs": [],
   "source": []
  },
  {
   "cell_type": "code",
   "execution_count": null,
   "metadata": {},
   "outputs": [],
   "source": []
  },
  {
   "cell_type": "code",
   "execution_count": null,
   "metadata": {},
   "outputs": [],
   "source": []
  },
  {
   "cell_type": "raw",
   "metadata": {
    "scrolled": true
   },
   "source": [
    "cur = con.cursor()\n",
    "cur.execute('SELECT * FROM FLOAT_POP')\n",
    "for row in cur:\n",
    "    print(row)\n",
    "cur.close()"
   ]
  }
 ],
 "metadata": {
  "kernelspec": {
   "display_name": "Python 3",
   "language": "python",
   "name": "python3"
  },
  "language_info": {
   "codemirror_mode": {
    "name": "ipython",
    "version": 3
   },
   "file_extension": ".py",
   "mimetype": "text/x-python",
   "name": "python",
   "nbconvert_exporter": "python",
   "pygments_lexer": "ipython3",
   "version": "3.7.3"
  },
  "toc": {
   "base_numbering": 1,
   "nav_menu": {},
   "number_sections": true,
   "sideBar": true,
   "skip_h1_title": false,
   "title_cell": "Table of Contents",
   "title_sidebar": "Contents",
   "toc_cell": false,
   "toc_position": {
    "height": "calc(100% - 180px)",
    "left": "10px",
    "top": "150px",
    "width": "178.958px"
   },
   "toc_section_display": true,
   "toc_window_display": true
  }
 },
 "nbformat": 4,
 "nbformat_minor": 2
}
