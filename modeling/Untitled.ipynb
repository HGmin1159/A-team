{
 "cells": [
  {
   "cell_type": "markdown",
   "metadata": {},
   "source": [
    "## 예측 모델링 짜보기"
   ]
  },
  {
   "cell_type": "markdown",
   "metadata": {},
   "source": [
    "### Y변수 설정"
   ]
  },
  {
   "cell_type": "code",
   "execution_count": 1,
   "metadata": {},
   "outputs": [],
   "source": [
    "import pandas as pd\n",
    "import numpy as np\n",
    "import xgboost as xgb\n",
    "import matplotlib.pyplot as plt"
   ]
  },
  {
   "cell_type": "code",
   "execution_count": 60,
   "metadata": {},
   "outputs": [],
   "source": [
    "flex = pd.read_csv(\"C:/Users/User/Desktop/Seoul_Festival-master/Seoul_Festival-master/데이터전처리/data/유동인구/float_pop.csv\")"
   ]
  },
  {
   "cell_type": "code",
   "execution_count": 8,
   "metadata": {},
   "outputs": [],
   "source": [
    "theday = flex.iloc[:73,:]"
   ]
  },
  {
   "cell_type": "code",
   "execution_count": 9,
   "metadata": {},
   "outputs": [],
   "source": [
    "theday_flex = theday.iloc[:,4:]"
   ]
  },
  {
   "cell_type": "code",
   "execution_count": 14,
   "metadata": {},
   "outputs": [],
   "source": [
    "theday_flex.index = flex[\"festival_no\"][:73]"
   ]
  },
  {
   "cell_type": "code",
   "execution_count": 15,
   "metadata": {},
   "outputs": [],
   "source": [
    "theday_flex[\"total\"] = theday_flex.apply(sum,axis=1).map(float)"
   ]
  },
  {
   "cell_type": "markdown",
   "metadata": {},
   "source": [
    "### 나이별 비율데이터 프레임 만들기"
   ]
  },
  {
   "cell_type": "code",
   "execution_count": 16,
   "metadata": {},
   "outputs": [],
   "source": [
    "fes_raio = pd.DataFrame()\n",
    "for i in range(len(theday_flex)) :\n",
    "    fes_raio = fes_raio.append(theday_flex.iloc[i,:]/theday_flex.iloc[i,-1])"
   ]
  },
  {
   "cell_type": "code",
   "execution_count": 17,
   "metadata": {},
   "outputs": [
    {
     "data": {
      "text/html": [
       "<div>\n",
       "<style scoped>\n",
       "    .dataframe tbody tr th:only-of-type {\n",
       "        vertical-align: middle;\n",
       "    }\n",
       "\n",
       "    .dataframe tbody tr th {\n",
       "        vertical-align: top;\n",
       "    }\n",
       "\n",
       "    .dataframe thead th {\n",
       "        text-align: right;\n",
       "    }\n",
       "</style>\n",
       "<table border=\"1\" class=\"dataframe\">\n",
       "  <thead>\n",
       "    <tr style=\"text-align: right;\">\n",
       "      <th></th>\n",
       "      <th>MAN_10</th>\n",
       "      <th>MAN_20</th>\n",
       "      <th>MAN_30</th>\n",
       "      <th>MAN_40</th>\n",
       "      <th>MAN_50</th>\n",
       "      <th>MAN_60</th>\n",
       "      <th>WMAN_10</th>\n",
       "      <th>WMAN_20</th>\n",
       "      <th>WMAN_30</th>\n",
       "      <th>WMAN_40</th>\n",
       "      <th>WMAN_50</th>\n",
       "      <th>WMAN_60</th>\n",
       "      <th>total</th>\n",
       "    </tr>\n",
       "  </thead>\n",
       "  <tbody>\n",
       "    <tr>\n",
       "      <td>1</td>\n",
       "      <td>0.028594</td>\n",
       "      <td>0.074904</td>\n",
       "      <td>0.143785</td>\n",
       "      <td>0.144034</td>\n",
       "      <td>0.100138</td>\n",
       "      <td>0.056265</td>\n",
       "      <td>0.090651</td>\n",
       "      <td>0.100310</td>\n",
       "      <td>0.088789</td>\n",
       "      <td>0.081562</td>\n",
       "      <td>0.055006</td>\n",
       "      <td>0.035961</td>\n",
       "      <td>1.0</td>\n",
       "    </tr>\n",
       "    <tr>\n",
       "      <td>2</td>\n",
       "      <td>0.028959</td>\n",
       "      <td>0.114048</td>\n",
       "      <td>0.124078</td>\n",
       "      <td>0.102328</td>\n",
       "      <td>0.110906</td>\n",
       "      <td>0.081124</td>\n",
       "      <td>0.028658</td>\n",
       "      <td>0.103584</td>\n",
       "      <td>0.088802</td>\n",
       "      <td>0.076646</td>\n",
       "      <td>0.083469</td>\n",
       "      <td>0.057397</td>\n",
       "      <td>1.0</td>\n",
       "    </tr>\n",
       "    <tr>\n",
       "      <td>3</td>\n",
       "      <td>0.034593</td>\n",
       "      <td>0.122875</td>\n",
       "      <td>0.103445</td>\n",
       "      <td>0.083960</td>\n",
       "      <td>0.076781</td>\n",
       "      <td>0.059752</td>\n",
       "      <td>0.044313</td>\n",
       "      <td>0.155539</td>\n",
       "      <td>0.100095</td>\n",
       "      <td>0.093156</td>\n",
       "      <td>0.075353</td>\n",
       "      <td>0.050140</td>\n",
       "      <td>1.0</td>\n",
       "    </tr>\n",
       "    <tr>\n",
       "      <td>4</td>\n",
       "      <td>0.037414</td>\n",
       "      <td>0.067226</td>\n",
       "      <td>0.109318</td>\n",
       "      <td>0.114201</td>\n",
       "      <td>0.108646</td>\n",
       "      <td>0.080264</td>\n",
       "      <td>0.038409</td>\n",
       "      <td>0.068344</td>\n",
       "      <td>0.100919</td>\n",
       "      <td>0.102847</td>\n",
       "      <td>0.103127</td>\n",
       "      <td>0.069285</td>\n",
       "      <td>1.0</td>\n",
       "    </tr>\n",
       "    <tr>\n",
       "      <td>5</td>\n",
       "      <td>0.021301</td>\n",
       "      <td>0.060836</td>\n",
       "      <td>0.137311</td>\n",
       "      <td>0.153151</td>\n",
       "      <td>0.118372</td>\n",
       "      <td>0.085459</td>\n",
       "      <td>0.024290</td>\n",
       "      <td>0.079821</td>\n",
       "      <td>0.093609</td>\n",
       "      <td>0.091972</td>\n",
       "      <td>0.078588</td>\n",
       "      <td>0.055290</td>\n",
       "      <td>1.0</td>\n",
       "    </tr>\n",
       "    <tr>\n",
       "      <td>...</td>\n",
       "      <td>...</td>\n",
       "      <td>...</td>\n",
       "      <td>...</td>\n",
       "      <td>...</td>\n",
       "      <td>...</td>\n",
       "      <td>...</td>\n",
       "      <td>...</td>\n",
       "      <td>...</td>\n",
       "      <td>...</td>\n",
       "      <td>...</td>\n",
       "      <td>...</td>\n",
       "      <td>...</td>\n",
       "      <td>...</td>\n",
       "    </tr>\n",
       "    <tr>\n",
       "      <td>69</td>\n",
       "      <td>0.016177</td>\n",
       "      <td>0.084417</td>\n",
       "      <td>0.118116</td>\n",
       "      <td>0.102135</td>\n",
       "      <td>0.090719</td>\n",
       "      <td>0.078723</td>\n",
       "      <td>0.021151</td>\n",
       "      <td>0.112746</td>\n",
       "      <td>0.118472</td>\n",
       "      <td>0.102163</td>\n",
       "      <td>0.088750</td>\n",
       "      <td>0.066430</td>\n",
       "      <td>1.0</td>\n",
       "    </tr>\n",
       "    <tr>\n",
       "      <td>70</td>\n",
       "      <td>0.032049</td>\n",
       "      <td>0.112043</td>\n",
       "      <td>0.089810</td>\n",
       "      <td>0.080146</td>\n",
       "      <td>0.076452</td>\n",
       "      <td>0.064985</td>\n",
       "      <td>0.041801</td>\n",
       "      <td>0.180085</td>\n",
       "      <td>0.093774</td>\n",
       "      <td>0.086360</td>\n",
       "      <td>0.077885</td>\n",
       "      <td>0.064610</td>\n",
       "      <td>1.0</td>\n",
       "    </tr>\n",
       "    <tr>\n",
       "      <td>71</td>\n",
       "      <td>0.047891</td>\n",
       "      <td>0.078360</td>\n",
       "      <td>0.114723</td>\n",
       "      <td>0.112933</td>\n",
       "      <td>0.086028</td>\n",
       "      <td>0.074792</td>\n",
       "      <td>0.063562</td>\n",
       "      <td>0.095892</td>\n",
       "      <td>0.097995</td>\n",
       "      <td>0.097501</td>\n",
       "      <td>0.069721</td>\n",
       "      <td>0.060601</td>\n",
       "      <td>1.0</td>\n",
       "    </tr>\n",
       "    <tr>\n",
       "      <td>72</td>\n",
       "      <td>0.056984</td>\n",
       "      <td>0.058115</td>\n",
       "      <td>0.109415</td>\n",
       "      <td>0.122130</td>\n",
       "      <td>0.095732</td>\n",
       "      <td>0.073811</td>\n",
       "      <td>0.051426</td>\n",
       "      <td>0.065050</td>\n",
       "      <td>0.092666</td>\n",
       "      <td>0.116795</td>\n",
       "      <td>0.084050</td>\n",
       "      <td>0.073828</td>\n",
       "      <td>1.0</td>\n",
       "    </tr>\n",
       "    <tr>\n",
       "      <td>73</td>\n",
       "      <td>0.030215</td>\n",
       "      <td>0.109385</td>\n",
       "      <td>0.120247</td>\n",
       "      <td>0.117932</td>\n",
       "      <td>0.085760</td>\n",
       "      <td>0.061122</td>\n",
       "      <td>0.038844</td>\n",
       "      <td>0.129261</td>\n",
       "      <td>0.098964</td>\n",
       "      <td>0.088745</td>\n",
       "      <td>0.065867</td>\n",
       "      <td>0.053660</td>\n",
       "      <td>1.0</td>\n",
       "    </tr>\n",
       "  </tbody>\n",
       "</table>\n",
       "<p>73 rows × 13 columns</p>\n",
       "</div>"
      ],
      "text/plain": [
       "      MAN_10    MAN_20    MAN_30    MAN_40    MAN_50    MAN_60   WMAN_10  \\\n",
       "1   0.028594  0.074904  0.143785  0.144034  0.100138  0.056265  0.090651   \n",
       "2   0.028959  0.114048  0.124078  0.102328  0.110906  0.081124  0.028658   \n",
       "3   0.034593  0.122875  0.103445  0.083960  0.076781  0.059752  0.044313   \n",
       "4   0.037414  0.067226  0.109318  0.114201  0.108646  0.080264  0.038409   \n",
       "5   0.021301  0.060836  0.137311  0.153151  0.118372  0.085459  0.024290   \n",
       "..       ...       ...       ...       ...       ...       ...       ...   \n",
       "69  0.016177  0.084417  0.118116  0.102135  0.090719  0.078723  0.021151   \n",
       "70  0.032049  0.112043  0.089810  0.080146  0.076452  0.064985  0.041801   \n",
       "71  0.047891  0.078360  0.114723  0.112933  0.086028  0.074792  0.063562   \n",
       "72  0.056984  0.058115  0.109415  0.122130  0.095732  0.073811  0.051426   \n",
       "73  0.030215  0.109385  0.120247  0.117932  0.085760  0.061122  0.038844   \n",
       "\n",
       "     WMAN_20   WMAN_30   WMAN_40   WMAN_50   WMAN_60  total  \n",
       "1   0.100310  0.088789  0.081562  0.055006  0.035961    1.0  \n",
       "2   0.103584  0.088802  0.076646  0.083469  0.057397    1.0  \n",
       "3   0.155539  0.100095  0.093156  0.075353  0.050140    1.0  \n",
       "4   0.068344  0.100919  0.102847  0.103127  0.069285    1.0  \n",
       "5   0.079821  0.093609  0.091972  0.078588  0.055290    1.0  \n",
       "..       ...       ...       ...       ...       ...    ...  \n",
       "69  0.112746  0.118472  0.102163  0.088750  0.066430    1.0  \n",
       "70  0.180085  0.093774  0.086360  0.077885  0.064610    1.0  \n",
       "71  0.095892  0.097995  0.097501  0.069721  0.060601    1.0  \n",
       "72  0.065050  0.092666  0.116795  0.084050  0.073828    1.0  \n",
       "73  0.129261  0.098964  0.088745  0.065867  0.053660    1.0  \n",
       "\n",
       "[73 rows x 13 columns]"
      ]
     },
     "execution_count": 17,
     "metadata": {},
     "output_type": "execute_result"
    }
   ],
   "source": [
    "fes_raio"
   ]
  },
  {
   "cell_type": "code",
   "execution_count": null,
   "metadata": {},
   "outputs": [],
   "source": []
  },
  {
   "cell_type": "code",
   "execution_count": 18,
   "metadata": {},
   "outputs": [],
   "source": [
    "fes_raio.to_csv(\"fes_raio.csv\")"
   ]
  },
  {
   "cell_type": "markdown",
   "metadata": {},
   "source": [
    "x 예측"
   ]
  },
  {
   "cell_type": "code",
   "execution_count": 19,
   "metadata": {},
   "outputs": [],
   "source": [
    "from sklearn.cluster import KMeans"
   ]
  },
  {
   "cell_type": "code",
   "execution_count": 53,
   "metadata": {},
   "outputs": [],
   "source": [
    "kmeans = KMeans(n_clusters=5)"
   ]
  },
  {
   "cell_type": "code",
   "execution_count": 54,
   "metadata": {},
   "outputs": [],
   "source": [
    "fes_raio_age = pd.DataFrame(fes_raio.iloc[:,:6].values + fes_raio.iloc[:,6:12].values,columns=[\"10대\",\"20대\",\"30대\",\"40대\",\"50대\",\"60대\"])"
   ]
  },
  {
   "cell_type": "code",
   "execution_count": 55,
   "metadata": {},
   "outputs": [
    {
     "data": {
      "text/plain": [
       "KMeans(algorithm='auto', copy_x=True, init='k-means++', max_iter=300,\n",
       "       n_clusters=5, n_init=10, n_jobs=None, precompute_distances='auto',\n",
       "       random_state=None, tol=0.0001, verbose=0)"
      ]
     },
     "execution_count": 55,
     "metadata": {},
     "output_type": "execute_result"
    }
   ],
   "source": [
    "kmeans.fit(fes_raio_age)"
   ]
  },
  {
   "cell_type": "code",
   "execution_count": 56,
   "metadata": {},
   "outputs": [],
   "source": [
    "fes_raio_age[\"labels\"] = kmeans.labels_"
   ]
  },
  {
   "cell_type": "code",
   "execution_count": 57,
   "metadata": {},
   "outputs": [],
   "source": [
    "clt_mean = fes_raio_age.groupby(\"labels\").agg(np.mean)"
   ]
  },
  {
   "cell_type": "code",
   "execution_count": 58,
   "metadata": {},
   "outputs": [],
   "source": [
    "clt_mean[\"원소수\"] = fes_raio_age.groupby(\"labels\")[\"labels\"].count()"
   ]
  },
  {
   "cell_type": "code",
   "execution_count": 59,
   "metadata": {},
   "outputs": [
    {
     "data": {
      "text/html": [
       "<div>\n",
       "<style scoped>\n",
       "    .dataframe tbody tr th:only-of-type {\n",
       "        vertical-align: middle;\n",
       "    }\n",
       "\n",
       "    .dataframe tbody tr th {\n",
       "        vertical-align: top;\n",
       "    }\n",
       "\n",
       "    .dataframe thead th {\n",
       "        text-align: right;\n",
       "    }\n",
       "</style>\n",
       "<table border=\"1\" class=\"dataframe\">\n",
       "  <thead>\n",
       "    <tr style=\"text-align: right;\">\n",
       "      <th></th>\n",
       "      <th>10대</th>\n",
       "      <th>20대</th>\n",
       "      <th>30대</th>\n",
       "      <th>40대</th>\n",
       "      <th>50대</th>\n",
       "      <th>60대</th>\n",
       "      <th>원소수</th>\n",
       "    </tr>\n",
       "    <tr>\n",
       "      <th>labels</th>\n",
       "      <th></th>\n",
       "      <th></th>\n",
       "      <th></th>\n",
       "      <th></th>\n",
       "      <th></th>\n",
       "      <th></th>\n",
       "      <th></th>\n",
       "    </tr>\n",
       "  </thead>\n",
       "  <tbody>\n",
       "    <tr>\n",
       "      <td>0</td>\n",
       "      <td>0.077407</td>\n",
       "      <td>0.213210</td>\n",
       "      <td>0.212419</td>\n",
       "      <td>0.198575</td>\n",
       "      <td>0.168164</td>\n",
       "      <td>0.130225</td>\n",
       "      <td>15</td>\n",
       "    </tr>\n",
       "    <tr>\n",
       "      <td>1</td>\n",
       "      <td>0.074844</td>\n",
       "      <td>0.143248</td>\n",
       "      <td>0.201602</td>\n",
       "      <td>0.222859</td>\n",
       "      <td>0.197754</td>\n",
       "      <td>0.159693</td>\n",
       "      <td>33</td>\n",
       "    </tr>\n",
       "    <tr>\n",
       "      <td>2</td>\n",
       "      <td>0.038785</td>\n",
       "      <td>0.166964</td>\n",
       "      <td>0.262547</td>\n",
       "      <td>0.245693</td>\n",
       "      <td>0.173760</td>\n",
       "      <td>0.112250</td>\n",
       "      <td>18</td>\n",
       "    </tr>\n",
       "    <tr>\n",
       "      <td>3</td>\n",
       "      <td>0.415731</td>\n",
       "      <td>0.110052</td>\n",
       "      <td>0.105664</td>\n",
       "      <td>0.159312</td>\n",
       "      <td>0.121214</td>\n",
       "      <td>0.088027</td>\n",
       "      <td>1</td>\n",
       "    </tr>\n",
       "    <tr>\n",
       "      <td>4</td>\n",
       "      <td>0.084310</td>\n",
       "      <td>0.322019</td>\n",
       "      <td>0.203434</td>\n",
       "      <td>0.164084</td>\n",
       "      <td>0.130594</td>\n",
       "      <td>0.095560</td>\n",
       "      <td>6</td>\n",
       "    </tr>\n",
       "  </tbody>\n",
       "</table>\n",
       "</div>"
      ],
      "text/plain": [
       "             10대       20대       30대       40대       50대       60대  원소수\n",
       "labels                                                                 \n",
       "0       0.077407  0.213210  0.212419  0.198575  0.168164  0.130225   15\n",
       "1       0.074844  0.143248  0.201602  0.222859  0.197754  0.159693   33\n",
       "2       0.038785  0.166964  0.262547  0.245693  0.173760  0.112250   18\n",
       "3       0.415731  0.110052  0.105664  0.159312  0.121214  0.088027    1\n",
       "4       0.084310  0.322019  0.203434  0.164084  0.130594  0.095560    6"
      ]
     },
     "execution_count": 59,
     "metadata": {},
     "output_type": "execute_result"
    }
   ],
   "source": [
    "clt_mean"
   ]
  },
  {
   "cell_type": "code",
   "execution_count": 146,
   "metadata": {},
   "outputs": [],
   "source": [
    "clt_mean.to_csv(\"clt_labels.csv\")"
   ]
  },
  {
   "cell_type": "markdown",
   "metadata": {},
   "source": [
    "적절한 클러스터 분석이 됬는지 시각화를 위해 이부분은 R studio로 진행함\n"
   ]
  },
  {
   "cell_type": "code",
   "execution_count": null,
   "metadata": {},
   "outputs": [],
   "source": []
  }
 ],
 "metadata": {
  "kernelspec": {
   "display_name": "Python 3",
   "language": "python",
   "name": "python3"
  }
 },
 "nbformat": 4,
 "nbformat_minor": 2
}
