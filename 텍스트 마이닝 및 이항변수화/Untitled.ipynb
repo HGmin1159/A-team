{
 "cells": [
  {
   "cell_type": "code",
   "execution_count": 3,
   "metadata": {},
   "outputs": [],
   "source": [
    "import pandas as pd\n",
    "import numpy as np\n",
    "import matplotlib.pyplot as plt"
   ]
  },
  {
   "cell_type": "code",
   "execution_count": 5,
   "metadata": {},
   "outputs": [],
   "source": [
    "fes19 = pd.read_csv(\"서울지역축제2019.csv\",encoding=\"ANSI\")\n",
    "fes16 = pd.read_csv(\"서울지역축제2016.csv\",encoding=\"ANSI\")"
   ]
  },
  {
   "cell_type": "markdown",
   "metadata": {},
   "source": [
    "# 2019년도 태그 이항변수화"
   ]
  },
  {
   "cell_type": "code",
   "execution_count": 2,
   "metadata": {},
   "outputs": [],
   "source": [
    "from konlpy.corpus import kolaw"
   ]
  },
  {
   "cell_type": "code",
   "execution_count": 13,
   "metadata": {},
   "outputs": [],
   "source": [
    "import nltk\n",
    "import konlpy"
   ]
  },
  {
   "cell_type": "code",
   "execution_count": 34,
   "metadata": {},
   "outputs": [],
   "source": [
    "sentence = fes19[\"축제주요내용\"][0]"
   ]
  },
  {
   "cell_type": "code",
   "execution_count": 35,
   "metadata": {},
   "outputs": [],
   "source": [
    "from konlpy.tag import Kkma"
   ]
  },
  {
   "cell_type": "code",
   "execution_count": 36,
   "metadata": {},
   "outputs": [],
   "source": [
    "kkma = Kkma()"
   ]
  },
  {
   "cell_type": "code",
   "execution_count": 69,
   "metadata": {},
   "outputs": [],
   "source": [
    "tag = np.zeros([93,2],dtype=list)"
   ]
  },
  {
   "cell_type": "code",
   "execution_count": 73,
   "metadata": {},
   "outputs": [],
   "source": [
    "for i in range(93) :\n",
    "    tag[i,0] = fes19[\"축제명\"][i]"
   ]
  },
  {
   "cell_type": "code",
   "execution_count": 71,
   "metadata": {},
   "outputs": [],
   "source": [
    "for i in range(93) :\n",
    "    tag[i,1] = np.array(kkma.nouns(fes19[\"축제주요내용\"][i]))"
   ]
  },
  {
   "cell_type": "code",
   "execution_count": 76,
   "metadata": {},
   "outputs": [],
   "source": [
    "tag = pd.DataFrame(tag,columns=[\"축제명\",\"태그\"])"
   ]
  },
  {
   "cell_type": "code",
   "execution_count": 77,
   "metadata": {},
   "outputs": [],
   "source": [
    "tag.to_csv(\"tag.csv\")"
   ]
  },
  {
   "cell_type": "code",
   "execution_count": 94,
   "metadata": {},
   "outputs": [],
   "source": [
    "tag_stat = []\n",
    "for i in range(93) :\n",
    "    for j in kkma.nouns(fes19[\"축제주요내용\"][i]) :\n",
    "        tag_stat.append(j)"
   ]
  },
  {
   "cell_type": "code",
   "execution_count": 95,
   "metadata": {},
   "outputs": [],
   "source": [
    "tag_stat = pd.DataFrame(pd.DataFrame(tag_stat).groupby(0)[0].count())\n",
    "tag_stat.columns = [\"등장빈도\"]"
   ]
  },
  {
   "cell_type": "code",
   "execution_count": 99,
   "metadata": {},
   "outputs": [],
   "source": [
    "tag_stat.sort_values([\"등장빈도\"], ascending=[False]).to_csv(\"tag_stat.csv\")"
   ]
  },
  {
   "cell_type": "code",
   "execution_count": 108,
   "metadata": {},
   "outputs": [],
   "source": [
    "sangwi = pd.read_csv(\"tag_sangwi.csv\",encoding=\"ansi\",header=None)"
   ]
  },
  {
   "cell_type": "code",
   "execution_count": 116,
   "metadata": {},
   "outputs": [
    {
     "data": {
      "text/plain": [
       "array(['공연', '체험', '문화', '프로그램', '운영', '전시', '행사', '예술', '테마', '문화공연',\n",
       "       '부스', '먹거리', '주민', '폐막', '축제', '참여', '콘서트', '대회', '장터', '시민', '거리',\n",
       "       '특별', '개막식', '포토', '마을', '동아리', '마켓', '전통', '뮤지컬', '퍼레이드'],\n",
       "      dtype=object)"
      ]
     },
     "execution_count": 116,
     "metadata": {},
     "output_type": "execute_result"
    }
   ],
   "source": [
    "np.array(sangwi).flatten()"
   ]
  },
  {
   "cell_type": "code",
   "execution_count": 136,
   "metadata": {},
   "outputs": [],
   "source": [
    "tagindex = []\n",
    "for i in np.array(sangwi).flatten() :\n",
    "    for j in tag[\"태그\"] :\n",
    "        tagindex.append(i in j)\n",
    "tagindex = pd.DataFrame(np.transpose(np.array([tagindex[93*i:93*(1+i)] for i in range(30)])))\n",
    "tagindex.columns = np.array(sangwi).flatten()"
   ]
  },
  {
   "cell_type": "code",
   "execution_count": 141,
   "metadata": {},
   "outputs": [],
   "source": [
    "festag19 = pd.merge(fes19[\"축제명\"],tagindex.applymap(int),left_index=True,right_index=True)"
   ]
  },
  {
   "cell_type": "code",
   "execution_count": 142,
   "metadata": {},
   "outputs": [],
   "source": [
    "festag19.to_csv(\"festag19.csv\")"
   ]
  },
  {
   "cell_type": "markdown",
   "metadata": {},
   "source": [
    "# 2016년도 태그 이항변수화"
   ]
  },
  {
   "cell_type": "code",
   "execution_count": 147,
   "metadata": {},
   "outputs": [],
   "source": [
    "tag16 = np.zeros([71,2],dtype=list)"
   ]
  },
  {
   "cell_type": "code",
   "execution_count": 150,
   "metadata": {},
   "outputs": [],
   "source": [
    "for i in range(71) :\n",
    "    tag16[i,0] = fes16[\"축제명\"][i]"
   ]
  },
  {
   "cell_type": "code",
   "execution_count": 152,
   "metadata": {},
   "outputs": [],
   "source": [
    "for i in range(71) :\n",
    "    tag16[i,1] = np.array(kkma.nouns(fes16[\"축제주요내용\"][i]))"
   ]
  },
  {
   "cell_type": "code",
   "execution_count": 154,
   "metadata": {},
   "outputs": [],
   "source": [
    "tag16 = pd.DataFrame(tag16,columns=[\"축제명\",\"태그\"])"
   ]
  },
  {
   "cell_type": "code",
   "execution_count": 155,
   "metadata": {},
   "outputs": [],
   "source": [
    "tag16.to_csv(\"tag16.csv\")"
   ]
  },
  {
   "cell_type": "code",
   "execution_count": 156,
   "metadata": {},
   "outputs": [],
   "source": [
    "tag_stat16 = []\n",
    "for i in range(71) :\n",
    "    for j in kkma.nouns(fes16[\"축제주요내용\"][i]) :\n",
    "        tag_stat16.append(j)"
   ]
  },
  {
   "cell_type": "code",
   "execution_count": 157,
   "metadata": {},
   "outputs": [],
   "source": [
    "tag_stat16 = pd.DataFrame(pd.DataFrame(tag_stat16).groupby(0)[0].count())\n",
    "tag_stat16.columns = [\"등장빈도\"]\n",
    "tag_stat16.sort_values([\"등장빈도\"], ascending=[False]).to_csv(\"tag_stat16.csv\")"
   ]
  },
  {
   "cell_type": "code",
   "execution_count": 159,
   "metadata": {},
   "outputs": [],
   "source": [
    "sangwi16 = pd.read_csv(\"sangwi16.csv\",encoding=\"ansi\",header=None)"
   ]
  },
  {
   "cell_type": "code",
   "execution_count": 161,
   "metadata": {},
   "outputs": [],
   "source": [
    "tagindex16 = []\n",
    "for i in np.array(sangwi16).flatten() :\n",
    "    for j in tag16[\"태그\"] :\n",
    "        tagindex16.append(i in j)"
   ]
  },
  {
   "cell_type": "code",
   "execution_count": 163,
   "metadata": {},
   "outputs": [],
   "source": [
    "tagindex16 = pd.DataFrame(np.transpose(np.array([tagindex16[71*i:71*(1+i)] for i in range(28)])))\n",
    "tagindex16.columns = np.array(sangwi16).flatten()"
   ]
  },
  {
   "cell_type": "code",
   "execution_count": 165,
   "metadata": {},
   "outputs": [],
   "source": [
    "festag16 = pd.merge(fes16[\"축제명\"],tagindex16.applymap(int),left_index=True,right_index=True)"
   ]
  },
  {
   "cell_type": "code",
   "execution_count": 167,
   "metadata": {},
   "outputs": [],
   "source": [
    "festag16.to_csv(\"festag16.csv\")"
   ]
  },
  {
   "cell_type": "code",
   "execution_count": 169,
   "metadata": {},
   "outputs": [
    {
     "data": {
      "text/html": [
       "<div>\n",
       "<style scoped>\n",
       "    .dataframe tbody tr th:only-of-type {\n",
       "        vertical-align: middle;\n",
       "    }\n",
       "\n",
       "    .dataframe tbody tr th {\n",
       "        vertical-align: top;\n",
       "    }\n",
       "\n",
       "    .dataframe thead th {\n",
       "        text-align: right;\n",
       "    }\n",
       "</style>\n",
       "<table border=\"1\" class=\"dataframe\">\n",
       "  <thead>\n",
       "    <tr style=\"text-align: right;\">\n",
       "      <th></th>\n",
       "      <th>축제명</th>\n",
       "      <th>체험</th>\n",
       "      <th>공연</th>\n",
       "      <th>프로그램</th>\n",
       "      <th>전시</th>\n",
       "      <th>문화</th>\n",
       "      <th>거리</th>\n",
       "      <th>행사</th>\n",
       "      <th>콘서트</th>\n",
       "      <th>참여</th>\n",
       "      <th>...</th>\n",
       "      <th>시민</th>\n",
       "      <th>예술</th>\n",
       "      <th>마켓</th>\n",
       "      <th>행렬</th>\n",
       "      <th>음식</th>\n",
       "      <th>주민</th>\n",
       "      <th>개막</th>\n",
       "      <th>전통</th>\n",
       "      <th>청소년</th>\n",
       "      <th>사진</th>\n",
       "    </tr>\n",
       "  </thead>\n",
       "  <tbody>\n",
       "    <tr>\n",
       "      <th>0</th>\n",
       "      <td>서울드럼페스티벌</td>\n",
       "      <td>1</td>\n",
       "      <td>1</td>\n",
       "      <td>0</td>\n",
       "      <td>1</td>\n",
       "      <td>0</td>\n",
       "      <td>0</td>\n",
       "      <td>1</td>\n",
       "      <td>0</td>\n",
       "      <td>0</td>\n",
       "      <td>...</td>\n",
       "      <td>0</td>\n",
       "      <td>0</td>\n",
       "      <td>0</td>\n",
       "      <td>0</td>\n",
       "      <td>0</td>\n",
       "      <td>0</td>\n",
       "      <td>0</td>\n",
       "      <td>0</td>\n",
       "      <td>0</td>\n",
       "      <td>0</td>\n",
       "    </tr>\n",
       "    <tr>\n",
       "      <th>1</th>\n",
       "      <td>서울거리예술축제</td>\n",
       "      <td>0</td>\n",
       "      <td>1</td>\n",
       "      <td>1</td>\n",
       "      <td>0</td>\n",
       "      <td>0</td>\n",
       "      <td>1</td>\n",
       "      <td>0</td>\n",
       "      <td>0</td>\n",
       "      <td>1</td>\n",
       "      <td>...</td>\n",
       "      <td>1</td>\n",
       "      <td>1</td>\n",
       "      <td>0</td>\n",
       "      <td>0</td>\n",
       "      <td>0</td>\n",
       "      <td>0</td>\n",
       "      <td>0</td>\n",
       "      <td>0</td>\n",
       "      <td>0</td>\n",
       "      <td>0</td>\n",
       "    </tr>\n",
       "    <tr>\n",
       "      <th>2</th>\n",
       "      <td>서울문화의 밤</td>\n",
       "      <td>0</td>\n",
       "      <td>0</td>\n",
       "      <td>1</td>\n",
       "      <td>0</td>\n",
       "      <td>1</td>\n",
       "      <td>0</td>\n",
       "      <td>0</td>\n",
       "      <td>0</td>\n",
       "      <td>0</td>\n",
       "      <td>...</td>\n",
       "      <td>1</td>\n",
       "      <td>0</td>\n",
       "      <td>0</td>\n",
       "      <td>0</td>\n",
       "      <td>0</td>\n",
       "      <td>0</td>\n",
       "      <td>0</td>\n",
       "      <td>0</td>\n",
       "      <td>0</td>\n",
       "      <td>0</td>\n",
       "    </tr>\n",
       "    <tr>\n",
       "      <th>3</th>\n",
       "      <td>서울김장문화제</td>\n",
       "      <td>1</td>\n",
       "      <td>0</td>\n",
       "      <td>1</td>\n",
       "      <td>1</td>\n",
       "      <td>1</td>\n",
       "      <td>0</td>\n",
       "      <td>1</td>\n",
       "      <td>0</td>\n",
       "      <td>0</td>\n",
       "      <td>...</td>\n",
       "      <td>0</td>\n",
       "      <td>0</td>\n",
       "      <td>0</td>\n",
       "      <td>0</td>\n",
       "      <td>0</td>\n",
       "      <td>0</td>\n",
       "      <td>0</td>\n",
       "      <td>0</td>\n",
       "      <td>0</td>\n",
       "      <td>0</td>\n",
       "    </tr>\n",
       "    <tr>\n",
       "      <th>4</th>\n",
       "      <td>국악한마당</td>\n",
       "      <td>1</td>\n",
       "      <td>1</td>\n",
       "      <td>1</td>\n",
       "      <td>0</td>\n",
       "      <td>0</td>\n",
       "      <td>0</td>\n",
       "      <td>0</td>\n",
       "      <td>0</td>\n",
       "      <td>0</td>\n",
       "      <td>...</td>\n",
       "      <td>0</td>\n",
       "      <td>0</td>\n",
       "      <td>0</td>\n",
       "      <td>0</td>\n",
       "      <td>1</td>\n",
       "      <td>0</td>\n",
       "      <td>0</td>\n",
       "      <td>1</td>\n",
       "      <td>0</td>\n",
       "      <td>0</td>\n",
       "    </tr>\n",
       "  </tbody>\n",
       "</table>\n",
       "<p>5 rows × 29 columns</p>\n",
       "</div>"
      ],
      "text/plain": [
       "        축제명  체험  공연  프로그램  전시  문화  거리  행사  콘서트  참여  ...  시민  예술  마켓  행렬  음식  \\\n",
       "0  서울드럼페스티벌   1   1     0   1   0   0   1    0   0  ...   0   0   0   0   0   \n",
       "1  서울거리예술축제   0   1     1   0   0   1   0    0   1  ...   1   1   0   0   0   \n",
       "2   서울문화의 밤   0   0     1   0   1   0   0    0   0  ...   1   0   0   0   0   \n",
       "3   서울김장문화제   1   0     1   1   1   0   1    0   0  ...   0   0   0   0   0   \n",
       "4     국악한마당   1   1     1   0   0   0   0    0   0  ...   0   0   0   0   1   \n",
       "\n",
       "   주민  개막  전통  청소년  사진  \n",
       "0   0   0   0    0   0  \n",
       "1   0   0   0    0   0  \n",
       "2   0   0   0    0   0  \n",
       "3   0   0   0    0   0  \n",
       "4   0   0   1    0   0  \n",
       "\n",
       "[5 rows x 29 columns]"
      ]
     },
     "execution_count": 169,
     "metadata": {},
     "output_type": "execute_result"
    }
   ],
   "source": [
    "festag16.head()"
   ]
  },
  {
   "cell_type": "code",
   "execution_count": 170,
   "metadata": {},
   "outputs": [
    {
     "data": {
      "text/html": [
       "<div>\n",
       "<style scoped>\n",
       "    .dataframe tbody tr th:only-of-type {\n",
       "        vertical-align: middle;\n",
       "    }\n",
       "\n",
       "    .dataframe tbody tr th {\n",
       "        vertical-align: top;\n",
       "    }\n",
       "\n",
       "    .dataframe thead th {\n",
       "        text-align: right;\n",
       "    }\n",
       "</style>\n",
       "<table border=\"1\" class=\"dataframe\">\n",
       "  <thead>\n",
       "    <tr style=\"text-align: right;\">\n",
       "      <th></th>\n",
       "      <th>축제명</th>\n",
       "      <th>공연</th>\n",
       "      <th>체험</th>\n",
       "      <th>문화</th>\n",
       "      <th>프로그램</th>\n",
       "      <th>운영</th>\n",
       "      <th>전시</th>\n",
       "      <th>행사</th>\n",
       "      <th>예술</th>\n",
       "      <th>테마</th>\n",
       "      <th>...</th>\n",
       "      <th>거리</th>\n",
       "      <th>특별</th>\n",
       "      <th>개막식</th>\n",
       "      <th>포토</th>\n",
       "      <th>마을</th>\n",
       "      <th>동아리</th>\n",
       "      <th>마켓</th>\n",
       "      <th>전통</th>\n",
       "      <th>뮤지컬</th>\n",
       "      <th>퍼레이드</th>\n",
       "    </tr>\n",
       "  </thead>\n",
       "  <tbody>\n",
       "    <tr>\n",
       "      <th>0</th>\n",
       "      <td>영등포 여의도 \\n봄꽃축제</td>\n",
       "      <td>1</td>\n",
       "      <td>1</td>\n",
       "      <td>0</td>\n",
       "      <td>1</td>\n",
       "      <td>1</td>\n",
       "      <td>1</td>\n",
       "      <td>0</td>\n",
       "      <td>1</td>\n",
       "      <td>1</td>\n",
       "      <td>...</td>\n",
       "      <td>0</td>\n",
       "      <td>0</td>\n",
       "      <td>0</td>\n",
       "      <td>0</td>\n",
       "      <td>0</td>\n",
       "      <td>0</td>\n",
       "      <td>0</td>\n",
       "      <td>0</td>\n",
       "      <td>0</td>\n",
       "      <td>0</td>\n",
       "    </tr>\n",
       "    <tr>\n",
       "      <th>1</th>\n",
       "      <td>2019 이태원 지구촌 축제</td>\n",
       "      <td>1</td>\n",
       "      <td>0</td>\n",
       "      <td>1</td>\n",
       "      <td>0</td>\n",
       "      <td>0</td>\n",
       "      <td>0</td>\n",
       "      <td>0</td>\n",
       "      <td>0</td>\n",
       "      <td>0</td>\n",
       "      <td>...</td>\n",
       "      <td>1</td>\n",
       "      <td>0</td>\n",
       "      <td>0</td>\n",
       "      <td>0</td>\n",
       "      <td>0</td>\n",
       "      <td>0</td>\n",
       "      <td>0</td>\n",
       "      <td>0</td>\n",
       "      <td>0</td>\n",
       "      <td>0</td>\n",
       "    </tr>\n",
       "    <tr>\n",
       "      <th>2</th>\n",
       "      <td>2019 드래곤 IT 페스티벌</td>\n",
       "      <td>1</td>\n",
       "      <td>1</td>\n",
       "      <td>1</td>\n",
       "      <td>0</td>\n",
       "      <td>0</td>\n",
       "      <td>1</td>\n",
       "      <td>0</td>\n",
       "      <td>0</td>\n",
       "      <td>0</td>\n",
       "      <td>...</td>\n",
       "      <td>0</td>\n",
       "      <td>0</td>\n",
       "      <td>0</td>\n",
       "      <td>0</td>\n",
       "      <td>0</td>\n",
       "      <td>0</td>\n",
       "      <td>0</td>\n",
       "      <td>0</td>\n",
       "      <td>0</td>\n",
       "      <td>0</td>\n",
       "    </tr>\n",
       "    <tr>\n",
       "      <th>3</th>\n",
       "      <td>4.19혁명국민문화제2019</td>\n",
       "      <td>1</td>\n",
       "      <td>1</td>\n",
       "      <td>1</td>\n",
       "      <td>1</td>\n",
       "      <td>1</td>\n",
       "      <td>1</td>\n",
       "      <td>1</td>\n",
       "      <td>0</td>\n",
       "      <td>1</td>\n",
       "      <td>...</td>\n",
       "      <td>0</td>\n",
       "      <td>0</td>\n",
       "      <td>0</td>\n",
       "      <td>0</td>\n",
       "      <td>0</td>\n",
       "      <td>0</td>\n",
       "      <td>0</td>\n",
       "      <td>0</td>\n",
       "      <td>0</td>\n",
       "      <td>0</td>\n",
       "    </tr>\n",
       "    <tr>\n",
       "      <th>4</th>\n",
       "      <td>서울장미축제</td>\n",
       "      <td>1</td>\n",
       "      <td>0</td>\n",
       "      <td>1</td>\n",
       "      <td>1</td>\n",
       "      <td>0</td>\n",
       "      <td>0</td>\n",
       "      <td>0</td>\n",
       "      <td>0</td>\n",
       "      <td>0</td>\n",
       "      <td>...</td>\n",
       "      <td>0</td>\n",
       "      <td>1</td>\n",
       "      <td>0</td>\n",
       "      <td>0</td>\n",
       "      <td>0</td>\n",
       "      <td>0</td>\n",
       "      <td>0</td>\n",
       "      <td>0</td>\n",
       "      <td>1</td>\n",
       "      <td>0</td>\n",
       "    </tr>\n",
       "  </tbody>\n",
       "</table>\n",
       "<p>5 rows × 31 columns</p>\n",
       "</div>"
      ],
      "text/plain": [
       "                축제명  공연  체험  문화  프로그램  운영  전시  행사  예술  테마  ...  거리  특별  개막식  \\\n",
       "0    영등포 여의도 \\n봄꽃축제   1   1   0     1   1   1   0   1   1  ...   0   0    0   \n",
       "1   2019 이태원 지구촌 축제   1   0   1     0   0   0   0   0   0  ...   1   0    0   \n",
       "2  2019 드래곤 IT 페스티벌   1   1   1     0   0   1   0   0   0  ...   0   0    0   \n",
       "3   4.19혁명국민문화제2019   1   1   1     1   1   1   1   0   1  ...   0   0    0   \n",
       "4            서울장미축제   1   0   1     1   0   0   0   0   0  ...   0   1    0   \n",
       "\n",
       "   포토  마을  동아리  마켓  전통  뮤지컬  퍼레이드  \n",
       "0   0   0    0   0   0    0     0  \n",
       "1   0   0    0   0   0    0     0  \n",
       "2   0   0    0   0   0    0     0  \n",
       "3   0   0    0   0   0    0     0  \n",
       "4   0   0    0   0   0    1     0  \n",
       "\n",
       "[5 rows x 31 columns]"
      ]
     },
     "execution_count": 170,
     "metadata": {},
     "output_type": "execute_result"
    }
   ],
   "source": [
    "festag19.head()"
   ]
  },
  {
   "cell_type": "code",
   "execution_count": 4,
   "metadata": {},
   "outputs": [],
   "source": [
    "festag16 = pd.read_csv(\"festag16.csv\")"
   ]
  },
  {
   "cell_type": "code",
   "execution_count": 6,
   "metadata": {},
   "outputs": [
    {
     "data": {
      "text/plain": [
       "Unnamed: 0           1\n",
       "축제명           서울거리예술축제\n",
       "체험                   0\n",
       "공연                   1\n",
       "프로그램                 1\n",
       "전시                   0\n",
       "문화                   0\n",
       "거리                   1\n",
       "행사                   0\n",
       "콘서트                  0\n",
       "참여                   1\n",
       "테마                   0\n",
       "대회                   0\n",
       "문화공연                 0\n",
       "폐막                   0\n",
       "음악회                  0\n",
       "퍼레이드                 0\n",
       "기타                   0\n",
       "부스                   0\n",
       "이벤트                  0\n",
       "시민                   1\n",
       "예술                   1\n",
       "마켓                   0\n",
       "행렬                   0\n",
       "음식                   0\n",
       "주민                   0\n",
       "개막                   0\n",
       "전통                   0\n",
       "청소년                  0\n",
       "사진                   0\n",
       "Name: 1, dtype: object"
      ]
     },
     "execution_count": 6,
     "metadata": {},
     "output_type": "execute_result"
    }
   ],
   "source": [
    "festag16.iloc[1,:]"
   ]
  },
  {
   "cell_type": "code",
   "execution_count": null,
   "metadata": {},
   "outputs": [],
   "source": []
  }
 ],
 "metadata": {
  "kernelspec": {
   "display_name": "Python 3",
   "language": "python",
   "name": "python3"
  },
  "language_info": {
   "codemirror_mode": {
    "name": "ipython",
    "version": 3
   },
   "file_extension": ".py",
   "mimetype": "text/x-python",
   "name": "python",
   "nbconvert_exporter": "python",
   "pygments_lexer": "ipython3",
   "version": "3.7.3"
  }
 },
 "nbformat": 4,
 "nbformat_minor": 2
}
