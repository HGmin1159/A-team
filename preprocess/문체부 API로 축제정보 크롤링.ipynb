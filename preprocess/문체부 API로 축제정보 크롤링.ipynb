{
 "cells": [
  {
   "cell_type": "code",
   "execution_count": 1,
   "metadata": {},
   "outputs": [],
   "source": [
    "import pandas as pd\n",
    "\n",
    "import requests"
   ]
  },
  {
   "cell_type": "code",
   "execution_count": 2,
   "metadata": {},
   "outputs": [],
   "source": [
    "from bs4 import BeautifulSoup"
   ]
  },
  {
   "cell_type": "code",
   "execution_count": null,
   "metadata": {},
   "outputs": [],
   "source": [
    "res = []\n",
    "for i in range(1, 13):\n",
    "    # 문제부 API\n",
    "    url = 'http://175.125.91.94/oasis/service/rest/meta4/getKCPG0504?numOfRows=100&pageNo='+str(i)\n",
    "    a = requests.get(url)\n",
    "    html = a.text\n",
    "    \n",
    "    soup = BeautifulSoup(html, 'html.parser')\n",
    "    \n",
    "    festival_info_url = soup.find_all(\"url\")\n",
    "    \n",
    "    \n",
    "    # 문체부의 축제 정보 페이지로 넘어가서 자세한 정보 가져오기\n",
    "    for festival in festival_info_url:\n",
    "\n",
    "        b = requests.get(festival.text)\n",
    "        html2 = b.text\n",
    "\n",
    "        soup2 = BeautifulSoup(html2, 'html.parser')\n",
    "        \n",
    "        festival_info = dict()\n",
    "\n",
    "        festival_name = soup2.find('div', attrs={'class': 'view_title color04'}).text\n",
    "        festival_img = soup2.find('div', attrs={'class': 'culture_view_img'}).find('img')\n",
    "        \n",
    "        festival_info['title'] = festival_name\n",
    "        festival_info['img'] = festival_img\n",
    "\n",
    "        for dt, dd in zip(soup2.find_all('dt'), soup2.find_all('dd')):\n",
    "            festival_info[dt.text] = dd.text.strip()\n",
    "\n",
    "        festival_info['explanation'] = soup2.find('div', attrs={'class': 'view_con color04'}).text\n",
    "        \n",
    "        res.append(festival_info)\n",
    "        \n",
    "    print('페이지 : ', i)"
   ]
  }
 ],
 "metadata": {
  "kernelspec": {
   "display_name": "Python 3",
   "language": "python",
   "name": "python3"
  },
  "language_info": {
   "codemirror_mode": {
    "name": "ipython",
    "version": 3
   },
   "file_extension": ".py",
   "mimetype": "text/x-python",
   "name": "python",
   "nbconvert_exporter": "python",
   "pygments_lexer": "ipython3",
   "version": "3.7.4"
  },
  "toc": {
   "base_numbering": 1,
   "nav_menu": {},
   "number_sections": true,
   "sideBar": true,
   "skip_h1_title": false,
   "title_cell": "Table of Contents",
   "title_sidebar": "Contents",
   "toc_cell": false,
   "toc_position": {},
   "toc_section_display": true,
   "toc_window_display": true
  }
 },
 "nbformat": 4,
 "nbformat_minor": 2
}
