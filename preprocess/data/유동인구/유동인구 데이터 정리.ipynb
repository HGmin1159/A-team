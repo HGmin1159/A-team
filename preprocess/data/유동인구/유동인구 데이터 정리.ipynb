{
 "cells": [
  {
   "cell_type": "code",
   "execution_count": 1,
   "metadata": {},
   "outputs": [],
   "source": [
    "import pandas as pd\n",
    "import numpy as np\n",
    "\n",
    "%matplotlib inline\n",
    "import matplotlib.pyplot as plt\n",
    "import seaborn as sns\n",
    "\n",
    "plt.rc('font', family='Malgun Gothic')"
   ]
  },
  {
   "cell_type": "code",
   "execution_count": 2,
   "metadata": {},
   "outputs": [],
   "source": [
    "import os"
   ]
  },
  {
   "cell_type": "code",
   "execution_count": 16,
   "metadata": {},
   "outputs": [
    {
     "data": {
      "text/plain": [
       "['.ipynb_checkpoints',\n",
       " 'the_day2019-11-25 14-02-42.txt',\n",
       " 'w1_after2019-11-25 13-57-35.csv',\n",
       " 'w1_before2019-11-25 13-34-25.txt',\n",
       " 'w2_after2019-11-25 14-12-15.csv',\n",
       " 'w2_before2019-11-25 13-48-35.txt',\n",
       " '분석결과요약서.odt',\n",
       " '분석일자 추가 및 유동인구 데이터 추출 쿼리 - 수정.ipynb']"
      ]
     },
     "execution_count": 16,
     "metadata": {},
     "output_type": "execute_result"
    }
   ],
   "source": [
    "file_list = os.listdir('../../빅데이터 캠퍼스 분석결과보고서')\n",
    "file_list"
   ]
  },
  {
   "cell_type": "code",
   "execution_count": 21,
   "metadata": {},
   "outputs": [],
   "source": [
    "path = '../../빅데이터 캠퍼스 분석결과보고서/'"
   ]
  },
  {
   "cell_type": "code",
   "execution_count": 22,
   "metadata": {
    "scrolled": true
   },
   "outputs": [],
   "source": [
    "tmp = pd.DataFrame()\n",
    "for period, file in zip(['d-day', 'a1', 'b1', 'a2', 'b2'], [i for i in file_list if ('txt' in i)|('csv' in i)]):\n",
    "    if 'txt' in file:\n",
    "        a = pd.read_csv(path+file, sep='|')\n",
    "    else:\n",
    "        a = pd.read_csv(path+file)\n",
    "    a['분석기준일'] = period\n",
    "    tmp = pd.concat([tmp, a])"
   ]
  },
  {
   "cell_type": "code",
   "execution_count": 24,
   "metadata": {
    "scrolled": true
   },
   "outputs": [
    {
     "data": {
      "text/plain": [
       "(365, 16)"
      ]
     },
     "execution_count": 24,
     "metadata": {},
     "output_type": "execute_result"
    }
   ],
   "source": [
    "tmp.shape"
   ]
  },
  {
   "cell_type": "code",
   "execution_count": 25,
   "metadata": {},
   "outputs": [
    {
     "data": {
      "text/html": [
       "<div>\n",
       "<style scoped>\n",
       "    .dataframe tbody tr th:only-of-type {\n",
       "        vertical-align: middle;\n",
       "    }\n",
       "\n",
       "    .dataframe tbody tr th {\n",
       "        vertical-align: top;\n",
       "    }\n",
       "\n",
       "    .dataframe thead th {\n",
       "        text-align: right;\n",
       "    }\n",
       "</style>\n",
       "<table border=\"1\" class=\"dataframe\">\n",
       "  <thead>\n",
       "    <tr style=\"text-align: right;\">\n",
       "      <th></th>\n",
       "      <th>STD_YM</th>\n",
       "      <th>STD_YMD</th>\n",
       "      <th>festival_no</th>\n",
       "      <th>MAN_10</th>\n",
       "      <th>MAN_20</th>\n",
       "      <th>MAN_30</th>\n",
       "      <th>MAN_40</th>\n",
       "      <th>MAN_50</th>\n",
       "      <th>MAN_60</th>\n",
       "      <th>WMAN_10</th>\n",
       "      <th>WMAN_20</th>\n",
       "      <th>WMAN_30</th>\n",
       "      <th>WMAN_40</th>\n",
       "      <th>WMAN_50</th>\n",
       "      <th>WMAN_60</th>\n",
       "      <th>분석기준일</th>\n",
       "    </tr>\n",
       "  </thead>\n",
       "  <tbody>\n",
       "    <tr>\n",
       "      <th>0</th>\n",
       "      <td>201509</td>\n",
       "      <td>20150904</td>\n",
       "      <td>1</td>\n",
       "      <td>1217.16</td>\n",
       "      <td>3188.45</td>\n",
       "      <td>6120.52</td>\n",
       "      <td>6131.13</td>\n",
       "      <td>4262.58</td>\n",
       "      <td>2395.04</td>\n",
       "      <td>3858.77</td>\n",
       "      <td>4269.92</td>\n",
       "      <td>3779.48</td>\n",
       "      <td>3471.84</td>\n",
       "      <td>2341.45</td>\n",
       "      <td>1530.77</td>\n",
       "      <td>d-day</td>\n",
       "    </tr>\n",
       "    <tr>\n",
       "      <th>1</th>\n",
       "      <td>201509</td>\n",
       "      <td>20150905</td>\n",
       "      <td>2</td>\n",
       "      <td>1173.81</td>\n",
       "      <td>4622.71</td>\n",
       "      <td>5029.26</td>\n",
       "      <td>4147.65</td>\n",
       "      <td>4495.33</td>\n",
       "      <td>3288.19</td>\n",
       "      <td>1161.59</td>\n",
       "      <td>4198.57</td>\n",
       "      <td>3599.39</td>\n",
       "      <td>3106.68</td>\n",
       "      <td>3383.26</td>\n",
       "      <td>2326.47</td>\n",
       "      <td>d-day</td>\n",
       "    </tr>\n",
       "    <tr>\n",
       "      <th>2</th>\n",
       "      <td>201509</td>\n",
       "      <td>20150905</td>\n",
       "      <td>3</td>\n",
       "      <td>3904.79</td>\n",
       "      <td>13869.85</td>\n",
       "      <td>11676.68</td>\n",
       "      <td>9477.21</td>\n",
       "      <td>8666.88</td>\n",
       "      <td>6744.64</td>\n",
       "      <td>5001.95</td>\n",
       "      <td>17556.91</td>\n",
       "      <td>11298.55</td>\n",
       "      <td>10515.25</td>\n",
       "      <td>8505.71</td>\n",
       "      <td>5659.74</td>\n",
       "      <td>d-day</td>\n",
       "    </tr>\n",
       "    <tr>\n",
       "      <th>3</th>\n",
       "      <td>201509</td>\n",
       "      <td>20150905</td>\n",
       "      <td>4</td>\n",
       "      <td>2811.10</td>\n",
       "      <td>5050.99</td>\n",
       "      <td>8213.51</td>\n",
       "      <td>8580.42</td>\n",
       "      <td>8163.06</td>\n",
       "      <td>6030.55</td>\n",
       "      <td>2885.84</td>\n",
       "      <td>5134.95</td>\n",
       "      <td>7582.51</td>\n",
       "      <td>7727.37</td>\n",
       "      <td>7748.36</td>\n",
       "      <td>5205.67</td>\n",
       "      <td>d-day</td>\n",
       "    </tr>\n",
       "    <tr>\n",
       "      <th>4</th>\n",
       "      <td>201509</td>\n",
       "      <td>20150915</td>\n",
       "      <td>5</td>\n",
       "      <td>1233.45</td>\n",
       "      <td>3522.80</td>\n",
       "      <td>7951.17</td>\n",
       "      <td>8868.44</td>\n",
       "      <td>6854.50</td>\n",
       "      <td>4948.63</td>\n",
       "      <td>1406.52</td>\n",
       "      <td>4622.16</td>\n",
       "      <td>5420.55</td>\n",
       "      <td>5325.78</td>\n",
       "      <td>4550.74</td>\n",
       "      <td>3201.63</td>\n",
       "      <td>d-day</td>\n",
       "    </tr>\n",
       "  </tbody>\n",
       "</table>\n",
       "</div>"
      ],
      "text/plain": [
       "   STD_YM   STD_YMD  festival_no   MAN_10    MAN_20    MAN_30   MAN_40  \\\n",
       "0  201509  20150904            1  1217.16   3188.45   6120.52  6131.13   \n",
       "1  201509  20150905            2  1173.81   4622.71   5029.26  4147.65   \n",
       "2  201509  20150905            3  3904.79  13869.85  11676.68  9477.21   \n",
       "3  201509  20150905            4  2811.10   5050.99   8213.51  8580.42   \n",
       "4  201509  20150915            5  1233.45   3522.80   7951.17  8868.44   \n",
       "\n",
       "    MAN_50   MAN_60  WMAN_10   WMAN_20   WMAN_30   WMAN_40  WMAN_50  WMAN_60  \\\n",
       "0  4262.58  2395.04  3858.77   4269.92   3779.48   3471.84  2341.45  1530.77   \n",
       "1  4495.33  3288.19  1161.59   4198.57   3599.39   3106.68  3383.26  2326.47   \n",
       "2  8666.88  6744.64  5001.95  17556.91  11298.55  10515.25  8505.71  5659.74   \n",
       "3  8163.06  6030.55  2885.84   5134.95   7582.51   7727.37  7748.36  5205.67   \n",
       "4  6854.50  4948.63  1406.52   4622.16   5420.55   5325.78  4550.74  3201.63   \n",
       "\n",
       "   분석기준일  \n",
       "0  d-day  \n",
       "1  d-day  \n",
       "2  d-day  \n",
       "3  d-day  \n",
       "4  d-day  "
      ]
     },
     "execution_count": 25,
     "metadata": {},
     "output_type": "execute_result"
    }
   ],
   "source": [
    "tmp.head()"
   ]
  },
  {
   "cell_type": "code",
   "execution_count": 46,
   "metadata": {},
   "outputs": [
    {
     "data": {
      "text/plain": [
       "array(['STD_YM', 'STD_YMD', 'festival_no', 'MAN_10', 'MAN_20', 'MAN_30',\n",
       "       'MAN_40', 'MAN_50', 'MAN_60', 'WMAN_10', 'WMAN_20', 'WMAN_30',\n",
       "       'WMAN_40', 'WMAN_50', 'WMAN_60', '분석기준일'], dtype=object)"
      ]
     },
     "execution_count": 46,
     "metadata": {},
     "output_type": "execute_result"
    }
   ],
   "source": [
    "tmp.columns.values"
   ]
  },
  {
   "cell_type": "markdown",
   "metadata": {},
   "source": [
    "분석기준일 \n",
    "- d-day : 축제당일\n",
    "- b1, b2 : 축제 1주전, 2주전 같은 요일\n",
    "- a1, a2 : 축제 1주후, 2주후 같은 요일"
   ]
  },
  {
   "cell_type": "code",
   "execution_count": 48,
   "metadata": {},
   "outputs": [],
   "source": [
    "tmp[['STD_YM', 'STD_YMD', 'festival_no', '분석기준일', 'MAN_10', 'MAN_20', 'MAN_30',\n",
    "       'MAN_40', 'MAN_50', 'MAN_60', 'WMAN_10', 'WMAN_20', 'WMAN_30',\n",
    "       'WMAN_40', 'WMAN_50', 'WMAN_60']].to_csv(\"float_pop.csv\", index=False)"
   ]
  }
 ],
 "metadata": {
  "kernelspec": {
   "display_name": "Python 3",
   "language": "python",
   "name": "python3"
  },
  "language_info": {
   "codemirror_mode": {
    "name": "ipython",
    "version": 3
   },
   "file_extension": ".py",
   "mimetype": "text/x-python",
   "name": "python",
   "nbconvert_exporter": "python",
   "pygments_lexer": "ipython3",
   "version": "3.7.3"
  },
  "toc": {
   "base_numbering": 1,
   "nav_menu": {},
   "number_sections": true,
   "sideBar": true,
   "skip_h1_title": false,
   "title_cell": "Table of Contents",
   "title_sidebar": "Contents",
   "toc_cell": false,
   "toc_position": {},
   "toc_section_display": true,
   "toc_window_display": true
  }
 },
 "nbformat": 4,
 "nbformat_minor": 2
}
